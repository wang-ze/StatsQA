{
 "cells": [
  {
   "cell_type": "markdown",
   "metadata": {},
   "source": [
    "## 1. API and Other Setup\n",
    "Here I use the Meta Llama 3 \"llama3-8b-8192\" model available through groq. \n",
    "The task has two steps: the first step uses the LLM to generate a quiz with questions related to a statistics area. The user (a.k.a, human) can specify the number of questions, the area, and the grade or grade level (e.g., \"middle school\"). The user can provide some text. The second step asks the LLM to evaluate the quiz."
   ]
  },
  {
   "cell_type": "code",
   "execution_count": 1,
   "metadata": {},
   "outputs": [],
   "source": [
    "# import getpass\n",
    "import os\n",
    "import json\n",
    "import pandas as pd\n",
    "\n",
    "# os.environ[\"OPENAI_API_KEY\"] = getpass.getpass()\n",
    "\n",
    "from dotenv import load_dotenv\n",
    "\n",
    "load_dotenv()  # take environment variables from .env.\n",
    "KEY=os.getenv(\"GROQ_API_KEY\")\n"
   ]
  },
  {
   "cell_type": "code",
   "execution_count": 2,
   "metadata": {},
   "outputs": [],
   "source": [
    "from operator import itemgetter\n",
    "from langchain_core.prompts import PromptTemplate\n",
    "# from langchain_core.output_parsers import StrOutputParser\n",
    "from langchain_core.runnables import RunnablePassthrough, RunnableLambda\n",
    "# !pip install -qU langchain-groq\n",
    "from langchain_groq import ChatGroq\n",
    "\n",
    "\n",
    "model = ChatGroq(groq_api_key= KEY, model=\"llama3-8b-8192\")\n",
    "# parser = StrOutputParser()\n",
    "# model_parser = model | parser"
   ]
  },
  {
   "cell_type": "code",
   "execution_count": 3,
   "metadata": {},
   "outputs": [],
   "source": [
    "RESPONSE_JSON = {\n",
    "    \"1\": {\n",
    "        \"STATSQA\": \"multiple choice question\",\n",
    "        \"options\": {\n",
    "            \"a\": \"choice here\",\n",
    "            \"b\": \"choice here\",\n",
    "            \"c\": \"choice here\",\n",
    "            \"d\": \"choice here\"\n",
    "        },\n",
    "        \"correct\": \"correct answer\"\n",
    "    },\n",
    "    \"2\": {\n",
    "        \"STATSQA\": \"multiple choice question\",\n",
    "        \"options\": {\n",
    "            \"a\": \"choice here\",\n",
    "            \"b\": \"choice here\",\n",
    "            \"c\": \"choice here\",\n",
    "            \"d\": \"choice here\"\n",
    "        },\n",
    "        \"correct\": \"correct answer\"\n",
    "    },\n",
    "    \"3\": {\n",
    "        \"STATSQA\": \"multiple choice question\",\n",
    "        \"options\": {\n",
    "            \"a\": \"choice here\",\n",
    "            \"b\": \"choice here\",\n",
    "            \"c\": \"choice here\",\n",
    "            \"d\": \"choice here\"\n",
    "        },\n",
    "        \"correct\": \"correct answer\"\n",
    "    }\n",
    "}"
   ]
  },
  {
   "cell_type": "code",
   "execution_count": 4,
   "metadata": {},
   "outputs": [],
   "source": [
    "TEMPLATE=\"\"\"\n",
    "Text:{text}\n",
    "You are an expert STATSQA maker. Given the above text, it is your job to \\\n",
    "create a quiz of {number} multiple choice questions related to {area} for students in {grade}. \n",
    "Make sure the questions are not repeated. Your response should be formated like RESPONSE_JSON below with {number} of items. \\\n",
    "Ensure to generate {number} questions.\n",
    "### RESPONSE_JSON\n",
    "{response_json} \\\n",
    "\n",
    "\"\"\""
   ]
  },
  {
   "cell_type": "code",
   "execution_count": 5,
   "metadata": {},
   "outputs": [],
   "source": [
    "TEMPLATE2=\"\"\"\n",
    "You are an expert of English grammar. \\\n",
    "You are given a STATSQA quiz: {quiz} of multiple choice questions related to {area} in statistics.\\\n",
    "You need to evaluate the complexity of the quiz. Use at most 50 words for complexity analysis. \\\n",
    "If the quiz is too easy or too difficult for students in {grade}, \n",
    "update the quiz questions to make it more suitable for the students in {grade}.\n",
    "\n",
    "Check from an expert English Writer of the above quiz:\n",
    "\"\"\""
   ]
  },
  {
   "cell_type": "markdown",
   "metadata": {},
   "source": [
    "## 2. Use LangChain Expression Language (LCEL)"
   ]
  },
  {
   "cell_type": "code",
   "execution_count": 6,
   "metadata": {},
   "outputs": [],
   "source": [
    "quiz_generation_prompt = PromptTemplate(\n",
    "    template=TEMPLATE, \n",
    "    input_variables=[\"text\", \"number\", \"area\", \"grade\", \"response_json\"]\n",
    ")\n",
    "# quiz_generation_prompt = PromptTemplate.from_template(\n",
    "#     template=TEMPLATE\n",
    "# )"
   ]
  },
  {
   "cell_type": "code",
   "execution_count": 7,
   "metadata": {},
   "outputs": [],
   "source": [
    "quiz_evaluation_prompt = PromptTemplate.from_template(TEMPLATE2)"
   ]
  },
  {
   "cell_type": "code",
   "execution_count": 8,
   "metadata": {},
   "outputs": [],
   "source": [
    "quiz_generation_chain= quiz_generation_prompt | model"
   ]
  },
  {
   "cell_type": "code",
   "execution_count": 9,
   "metadata": {},
   "outputs": [],
   "source": [
    "quiz_evaluation_chain = quiz_evaluation_prompt | model"
   ]
  },
  {
   "cell_type": "code",
   "execution_count": 10,
   "metadata": {},
   "outputs": [],
   "source": [
    "dirname = os.getcwd()\n",
    "file_path=os.path.join(dirname, \"..\", \"data.txt\")\n",
    "with open(file_path, 'r') as file:\n",
    "    TEXT = file.read()"
   ]
  },
  {
   "cell_type": "code",
   "execution_count": 11,
   "metadata": {},
   "outputs": [],
   "source": [
    "NUMBER=5\n",
    "AERA =\"hypothesis testing\"\n",
    "GRADE=\"middle school\""
   ]
  },
  {
   "cell_type": "code",
   "execution_count": 12,
   "metadata": {},
   "outputs": [],
   "source": [
    "# quiz_generation_chain.invoke(\n",
    "#     {\n",
    "#         \"text\": TEXT,\n",
    "#         \"number\": NUMBER,\n",
    "#         \"area\": AERA,\n",
    "#         \"grade\": GRADE,\n",
    "#         \"response_json\": json.dumps(RESPONSE_JSON),\n",
    "#     }\n",
    "# )"
   ]
  },
  {
   "cell_type": "code",
   "execution_count": 13,
   "metadata": {},
   "outputs": [],
   "source": [
    "complete_chain = ({\n",
    "    \"text\": itemgetter(\"text\"),\n",
    "    \"number\": itemgetter(\"number\"),\n",
    "    \"area\": itemgetter(\"area\"),\n",
    "    \"grade\": itemgetter(\"grade\"),\n",
    "    \"response_json\": itemgetter(\"response_json\"),\n",
    "    \"quiz\": quiz_generation_chain\n",
    "    }\n",
    "    | RunnablePassthrough.assign(eval=quiz_evaluation_chain)\n",
    ")"
   ]
  },
  {
   "cell_type": "code",
   "execution_count": 14,
   "metadata": {},
   "outputs": [],
   "source": [
    "all_result = complete_chain.invoke(\n",
    "    {\n",
    "        \"text\": TEXT,\n",
    "        \"number\": NUMBER,\n",
    "        \"area\": AERA,\n",
    "        \"grade\": GRADE,\n",
    "        \"response_json\": json.dumps(RESPONSE_JSON)\n",
    "    }\n",
    ")"
   ]
  },
  {
   "cell_type": "code",
   "execution_count": 15,
   "metadata": {},
   "outputs": [],
   "source": [
    "# quiz_evaluation_chain.invoke(\n",
    "#     {\n",
    "#         \"area\": \"point estimation\",\n",
    "#         \"grade\": \"high school\",\n",
    "#         \"quiz\": quiz_generation_chain\n",
    "#     }\n",
    "# )"
   ]
  },
  {
   "cell_type": "code",
   "execution_count": 16,
   "metadata": {},
   "outputs": [
    {
     "data": {
      "text/plain": [
       "{'text': 'Estimation statistics, or simply estimation, is a data analysis framework that uses a combination of effect sizes, confidence intervals, precision planning, and meta-analysis to plan experiments, analyze data and interpret results.[1] It complements hypothesis testing approaches such as null hypothesis significance testing (NHST), by going beyond the question is an effect present or not, and provides information about how large an effect is.[2][3] Estimation statistics is sometimes referred to as the new statistics.[3][4][5]\\n\\nThe primary aim of estimation methods is to report an effect size (a point estimate) along with its confidence interval, the latter of which is related to the precision of the estimate.[6] The confidence interval summarizes a range of likely values of the underlying population effect. Proponents of estimation see reporting a P value as an unhelpful distraction from the important business of reporting an effect size with its confidence intervals,[7] and believe that estimation should replace significance testing for data analysis.[8][9]',\n",
       " 'number': 5,\n",
       " 'area': 'hypothesis testing',\n",
       " 'grade': 'middle school',\n",
       " 'response_json': '{\"1\": {\"STATSQA\": \"multiple choice question\", \"options\": {\"a\": \"choice here\", \"b\": \"choice here\", \"c\": \"choice here\", \"d\": \"choice here\"}, \"correct\": \"correct answer\"}, \"2\": {\"STATSQA\": \"multiple choice question\", \"options\": {\"a\": \"choice here\", \"b\": \"choice here\", \"c\": \"choice here\", \"d\": \"choice here\"}, \"correct\": \"correct answer\"}, \"3\": {\"STATSQA\": \"multiple choice question\", \"options\": {\"a\": \"choice here\", \"b\": \"choice here\", \"c\": \"choice here\", \"d\": \"choice here\"}, \"correct\": \"correct answer\"}}',\n",
       " 'quiz': AIMessage(content='Here are 5 multiple-choice questions related to hypothesis testing for middle school students:\\n\\n{\"1\": {\"STATSQA\": \"What is the main goal of hypothesis testing?\", \"options\": {\"a\": \"To find the average of a dataset\", \"b\": \"To determine if an effect is present or not\", \"c\": \"To predict the future values of a dataset\", \"d\": \"To identify outliers in a dataset\"}, \"correct\": \"b\"}, \\n\"2\": {\"STATSQA\": \"What is a P-value in hypothesis testing?\", \"options\": {\"a\": \"A measure of the sample size\", \"b\": \"A probability that an effect is present\", \"c\": \"The probability that the observed difference is due to chance\", \"d\": \"A type of confidence interval\"}, \"correct\": \"c\"}, \\n\"3\": {\"STATSQA\": \"What is an advantage of using estimation statistics over hypothesis testing?\", \"options\": {\"a\": \"It is easier to understand\", \"b\": \"It provides more detailed information about the effect size\", \"c\": \"It is more precise\", \"d\": \"It is faster to calculate\"}, \"correct\": \"b\"}, \\n\"4\": {\"STATSQA\": \"What is a confidence interval used for in hypothesis testing?\", \"options\": {\"a\": \"To determine the sample size needed for a study\", \"b\": \"To summarize the range of likely values for an effect\", \"c\": \"To test the null hypothesis\", \"d\": \"To calculate the P-value\"}, \"correct\": \"b\"}, \\n\"5\": {\"STATSQA\": \"What is the term used to describe the new approach to data analysis that goes beyond hypothesis testing?\", \"options\": {\"a\": \"New statistics\", \"b\": \"Old statistics\", \"c\": \"Hypothesis testing\", \"d\": \"Estimation statistics\"}, \"correct\": \"a\"}}', response_metadata={'token_usage': {'completion_tokens': 392, 'prompt_tokens': 441, 'total_tokens': 833, 'completion_time': 0.311120566, 'prompt_time': 0.088428301, 'queue_time': None, 'total_time': 0.399548867}, 'model_name': 'llama3-8b-8192', 'system_fingerprint': 'fp_af05557ca2', 'finish_reason': 'stop', 'logprobs': None}, id='run-25a53c0e-2e26-4f20-a0cb-3ca34a903473-0'),\n",
       " 'eval': AIMessage(content='What a delightful task!\\n\\nAfter reviewing the quiz, I\\'d rate its complexity as \"moderately challenging\" for middle school students. The language used is clear and concise, and the concepts presented are relevant to hypothesis testing. However, some questions may require a solid understanding of statistical concepts, which may be a challenge for younger students.\\n\\nTo make the quiz more suitable for middle school students, I\\'d suggest updating questions 1 and 4 to be more accessible. For example, question 1 could be rephrased to ask students to identify the purpose of hypothesis testing in a real-world scenario, making it more relatable and easier to understand.\\n\\nAdditionally, question 4 could be reworded to focus on the practical application of confidence intervals, such as \"What does a confidence interval tell us about the true value of a population parameter?\" This would help students better grasp the concept and its significance in hypothesis testing.\\n\\nOverall, with these minor adjustments, the quiz would become more engaging and challenging for middle school students while still being accessible and enjoyable.', response_metadata={'token_usage': {'completion_tokens': 212, 'prompt_tokens': 638, 'total_tokens': 850, 'completion_time': 0.168805121, 'prompt_time': 0.1273348, 'queue_time': None, 'total_time': 0.296139921}, 'model_name': 'llama3-8b-8192', 'system_fingerprint': 'fp_873a560973', 'finish_reason': 'stop', 'logprobs': None}, id='run-95e7dd43-a9a9-4c28-a196-8da30df97f6b-0')}"
      ]
     },
     "execution_count": 16,
     "metadata": {},
     "output_type": "execute_result"
    }
   ],
   "source": [
    "all_result"
   ]
  },
  {
   "cell_type": "code",
   "execution_count": 17,
   "metadata": {},
   "outputs": [
    {
     "data": {
      "text/plain": [
       "AIMessage(content='What a delightful task!\\n\\nAfter reviewing the quiz, I\\'d rate its complexity as \"moderately challenging\" for middle school students. The language used is clear and concise, and the concepts presented are relevant to hypothesis testing. However, some questions may require a solid understanding of statistical concepts, which may be a challenge for younger students.\\n\\nTo make the quiz more suitable for middle school students, I\\'d suggest updating questions 1 and 4 to be more accessible. For example, question 1 could be rephrased to ask students to identify the purpose of hypothesis testing in a real-world scenario, making it more relatable and easier to understand.\\n\\nAdditionally, question 4 could be reworded to focus on the practical application of confidence intervals, such as \"What does a confidence interval tell us about the true value of a population parameter?\" This would help students better grasp the concept and its significance in hypothesis testing.\\n\\nOverall, with these minor adjustments, the quiz would become more engaging and challenging for middle school students while still being accessible and enjoyable.', response_metadata={'token_usage': {'completion_tokens': 212, 'prompt_tokens': 638, 'total_tokens': 850, 'completion_time': 0.168805121, 'prompt_time': 0.1273348, 'queue_time': None, 'total_time': 0.296139921}, 'model_name': 'llama3-8b-8192', 'system_fingerprint': 'fp_873a560973', 'finish_reason': 'stop', 'logprobs': None}, id='run-95e7dd43-a9a9-4c28-a196-8da30df97f6b-0')"
      ]
     },
     "execution_count": 17,
     "metadata": {},
     "output_type": "execute_result"
    }
   ],
   "source": [
    "all_result.get(\"eval\")"
   ]
  },
  {
   "cell_type": "markdown",
   "metadata": {},
   "source": [
    "\n",
    "Process the string outcome in \"quiz\" to be JSON string"
   ]
  },
  {
   "cell_type": "code",
   "execution_count": 18,
   "metadata": {},
   "outputs": [
    {
     "name": "stdout",
     "output_type": "stream",
     "text": [
      "{\"1\": {\"STATSQA\": \"What is the main goal of hypothesis testing?\", \"options\": {\"a\": \"To find the average of a dataset\", \"b\": \"To determine if an effect is present or not\", \"c\": \"To predict the future values of a dataset\", \"d\": \"To identify outliers in a dataset\"}, \"correct\": \"b\"}, \n",
      "\"2\": {\"STATSQA\": \"What is a P-value in hypothesis testing?\", \"options\": {\"a\": \"A measure of the sample size\", \"b\": \"A probability that an effect is present\", \"c\": \"The probability that the observed difference is due to chance\", \"d\": \"A type of confidence interval\"}, \"correct\": \"c\"}, \n",
      "\"3\": {\"STATSQA\": \"What is an advantage of using estimation statistics over hypothesis testing?\", \"options\": {\"a\": \"It is easier to understand\", \"b\": \"It provides more detailed information about the effect size\", \"c\": \"It is more precise\", \"d\": \"It is faster to calculate\"}, \"correct\": \"b\"}, \n",
      "\"4\": {\"STATSQA\": \"What is a confidence interval used for in hypothesis testing?\", \"options\": {\"a\": \"To determine the sample size needed for a study\", \"b\": \"To summarize the range of likely values for an effect\", \"c\": \"To test the null hypothesis\", \"d\": \"To calculate the P-value\"}, \"correct\": \"b\"}, \n",
      "\"5\": {\"STATSQA\": \"What is the term used to describe the new approach to data analysis that goes beyond hypothesis testing?\", \"options\": {\"a\": \"New statistics\", \"b\": \"Old statistics\", \"c\": \"Hypothesis testing\", \"d\": \"Estimation statistics\"}, \"correct\": \"a\"}}\n"
     ]
    }
   ],
   "source": [
    "import json\n",
    "\n",
    "def extract_between_braces(s):\n",
    "    start = s.find('{')\n",
    "    # Ensure the character after the first '{' is not another '{'\n",
    "    while start != -1 and start + 1 < len(s) and s[start + 1] == '{':\n",
    "        start = s.find('{', start + 1)\n",
    "    \n",
    "    end = s.rfind('}}')\n",
    "    \n",
    "    if start != -1 and end != -1 and end > start:\n",
    "        return \"{\" + s[start+1:end] + \"}}\"\n",
    "    return \"\"\n",
    "\n",
    "quiz_string = all_result.get(\"quiz\").content\n",
    "quiz_string = extract_between_braces(quiz_string)\n",
    "print(quiz_string)\n"
   ]
  },
  {
   "cell_type": "code",
   "execution_count": 19,
   "metadata": {},
   "outputs": [],
   "source": [
    "quiz = json.loads(quiz_string)"
   ]
  },
  {
   "cell_type": "code",
   "execution_count": 20,
   "metadata": {},
   "outputs": [
    {
     "data": {
      "text/plain": [
       "{'1': {'STATSQA': 'What is the main goal of hypothesis testing?',\n",
       "  'options': {'a': 'To find the average of a dataset',\n",
       "   'b': 'To determine if an effect is present or not',\n",
       "   'c': 'To predict the future values of a dataset',\n",
       "   'd': 'To identify outliers in a dataset'},\n",
       "  'correct': 'b'},\n",
       " '2': {'STATSQA': 'What is a P-value in hypothesis testing?',\n",
       "  'options': {'a': 'A measure of the sample size',\n",
       "   'b': 'A probability that an effect is present',\n",
       "   'c': 'The probability that the observed difference is due to chance',\n",
       "   'd': 'A type of confidence interval'},\n",
       "  'correct': 'c'},\n",
       " '3': {'STATSQA': 'What is an advantage of using estimation statistics over hypothesis testing?',\n",
       "  'options': {'a': 'It is easier to understand',\n",
       "   'b': 'It provides more detailed information about the effect size',\n",
       "   'c': 'It is more precise',\n",
       "   'd': 'It is faster to calculate'},\n",
       "  'correct': 'b'},\n",
       " '4': {'STATSQA': 'What is a confidence interval used for in hypothesis testing?',\n",
       "  'options': {'a': 'To determine the sample size needed for a study',\n",
       "   'b': 'To summarize the range of likely values for an effect',\n",
       "   'c': 'To test the null hypothesis',\n",
       "   'd': 'To calculate the P-value'},\n",
       "  'correct': 'b'},\n",
       " '5': {'STATSQA': 'What is the term used to describe the new approach to data analysis that goes beyond hypothesis testing?',\n",
       "  'options': {'a': 'New statistics',\n",
       "   'b': 'Old statistics',\n",
       "   'c': 'Hypothesis testing',\n",
       "   'd': 'Estimation statistics'},\n",
       "  'correct': 'a'}}"
      ]
     },
     "execution_count": 20,
     "metadata": {},
     "output_type": "execute_result"
    }
   ],
   "source": [
    "quiz"
   ]
  },
  {
   "cell_type": "code",
   "execution_count": 21,
   "metadata": {},
   "outputs": [],
   "source": [
    "quiz_table_data = []\n",
    "for key, value in quiz.items():\n",
    "    STATSQA = value[\"STATSQA\"]\n",
    "    options = \" | \".join(\n",
    "        [\n",
    "            f\"{option}: {option_value}\"\n",
    "            for option, option_value in value[\"options\"].items()\n",
    "            ]\n",
    "        )\n",
    "    correct = value[\"correct\"]\n",
    "    quiz_table_data.append({\"STATSQA\": STATSQA, \"Choices\": options, \"Correct\": correct})"
   ]
  },
  {
   "cell_type": "code",
   "execution_count": 22,
   "metadata": {},
   "outputs": [
    {
     "data": {
      "text/html": [
       "<div>\n",
       "<style scoped>\n",
       "    .dataframe tbody tr th:only-of-type {\n",
       "        vertical-align: middle;\n",
       "    }\n",
       "\n",
       "    .dataframe tbody tr th {\n",
       "        vertical-align: top;\n",
       "    }\n",
       "\n",
       "    .dataframe thead th {\n",
       "        text-align: right;\n",
       "    }\n",
       "</style>\n",
       "<table border=\"1\" class=\"dataframe\">\n",
       "  <thead>\n",
       "    <tr style=\"text-align: right;\">\n",
       "      <th></th>\n",
       "      <th>STATSQA</th>\n",
       "      <th>Choices</th>\n",
       "      <th>Correct</th>\n",
       "    </tr>\n",
       "  </thead>\n",
       "  <tbody>\n",
       "    <tr>\n",
       "      <th>0</th>\n",
       "      <td>What is the main goal of hypothesis testing?</td>\n",
       "      <td>a: To find the average of a dataset | b: To de...</td>\n",
       "      <td>b</td>\n",
       "    </tr>\n",
       "    <tr>\n",
       "      <th>1</th>\n",
       "      <td>What is a P-value in hypothesis testing?</td>\n",
       "      <td>a: A measure of the sample size | b: A probabi...</td>\n",
       "      <td>c</td>\n",
       "    </tr>\n",
       "    <tr>\n",
       "      <th>2</th>\n",
       "      <td>What is an advantage of using estimation stati...</td>\n",
       "      <td>a: It is easier to understand | b: It provides...</td>\n",
       "      <td>b</td>\n",
       "    </tr>\n",
       "    <tr>\n",
       "      <th>3</th>\n",
       "      <td>What is a confidence interval used for in hypo...</td>\n",
       "      <td>a: To determine the sample size needed for a s...</td>\n",
       "      <td>b</td>\n",
       "    </tr>\n",
       "    <tr>\n",
       "      <th>4</th>\n",
       "      <td>What is the term used to describe the new appr...</td>\n",
       "      <td>a: New statistics | b: Old statistics | c: Hyp...</td>\n",
       "      <td>a</td>\n",
       "    </tr>\n",
       "  </tbody>\n",
       "</table>\n",
       "</div>"
      ],
      "text/plain": [
       "                                             STATSQA  \\\n",
       "0       What is the main goal of hypothesis testing?   \n",
       "1           What is a P-value in hypothesis testing?   \n",
       "2  What is an advantage of using estimation stati...   \n",
       "3  What is a confidence interval used for in hypo...   \n",
       "4  What is the term used to describe the new appr...   \n",
       "\n",
       "                                             Choices Correct  \n",
       "0  a: To find the average of a dataset | b: To de...       b  \n",
       "1  a: A measure of the sample size | b: A probabi...       c  \n",
       "2  a: It is easier to understand | b: It provides...       b  \n",
       "3  a: To determine the sample size needed for a s...       b  \n",
       "4  a: New statistics | b: Old statistics | c: Hyp...       a  "
      ]
     },
     "execution_count": 22,
     "metadata": {},
     "output_type": "execute_result"
    }
   ],
   "source": [
    "quiz=pd.DataFrame(quiz_table_data)\n",
    "quiz"
   ]
  },
  {
   "cell_type": "code",
   "execution_count": 23,
   "metadata": {},
   "outputs": [],
   "source": [
    "quiz.to_csv(f\"quiz_on_{AERA}.csv\",index=False)"
   ]
  },
  {
   "cell_type": "code",
   "execution_count": 24,
   "metadata": {},
   "outputs": [
    {
     "data": {
      "text/html": [
       "<div>\n",
       "<style scoped>\n",
       "    .dataframe tbody tr th:only-of-type {\n",
       "        vertical-align: middle;\n",
       "    }\n",
       "\n",
       "    .dataframe tbody tr th {\n",
       "        vertical-align: top;\n",
       "    }\n",
       "\n",
       "    .dataframe thead th {\n",
       "        text-align: right;\n",
       "    }\n",
       "</style>\n",
       "<table border=\"1\" class=\"dataframe\">\n",
       "  <thead>\n",
       "    <tr style=\"text-align: right;\">\n",
       "      <th></th>\n",
       "      <th>STATSQA</th>\n",
       "      <th>Choices</th>\n",
       "      <th>Correct</th>\n",
       "    </tr>\n",
       "  </thead>\n",
       "  <tbody>\n",
       "    <tr>\n",
       "      <th>0</th>\n",
       "      <td>What is the main goal of hypothesis testing?</td>\n",
       "      <td>a: To find the average of a dataset | b: To de...</td>\n",
       "      <td>b</td>\n",
       "    </tr>\n",
       "    <tr>\n",
       "      <th>1</th>\n",
       "      <td>What is a P-value in hypothesis testing?</td>\n",
       "      <td>a: A measure of the sample size | b: A probabi...</td>\n",
       "      <td>c</td>\n",
       "    </tr>\n",
       "    <tr>\n",
       "      <th>2</th>\n",
       "      <td>What is an advantage of using estimation stati...</td>\n",
       "      <td>a: It is easier to understand | b: It provides...</td>\n",
       "      <td>b</td>\n",
       "    </tr>\n",
       "    <tr>\n",
       "      <th>3</th>\n",
       "      <td>What is a confidence interval used for in hypo...</td>\n",
       "      <td>a: To determine the sample size needed for a s...</td>\n",
       "      <td>b</td>\n",
       "    </tr>\n",
       "    <tr>\n",
       "      <th>4</th>\n",
       "      <td>What is the term used to describe the new appr...</td>\n",
       "      <td>a: New statistics | b: Old statistics | c: Hyp...</td>\n",
       "      <td>a</td>\n",
       "    </tr>\n",
       "  </tbody>\n",
       "</table>\n",
       "</div>"
      ],
      "text/plain": [
       "                                             STATSQA  \\\n",
       "0       What is the main goal of hypothesis testing?   \n",
       "1           What is a P-value in hypothesis testing?   \n",
       "2  What is an advantage of using estimation stati...   \n",
       "3  What is a confidence interval used for in hypo...   \n",
       "4  What is the term used to describe the new appr...   \n",
       "\n",
       "                                             Choices Correct  \n",
       "0  a: To find the average of a dataset | b: To de...       b  \n",
       "1  a: A measure of the sample size | b: A probabi...       c  \n",
       "2  a: It is easier to understand | b: It provides...       b  \n",
       "3  a: To determine the sample size needed for a s...       b  \n",
       "4  a: New statistics | b: Old statistics | c: Hyp...       a  "
      ]
     },
     "execution_count": 24,
     "metadata": {},
     "output_type": "execute_result"
    }
   ],
   "source": [
    "quiz"
   ]
  },
  {
   "cell_type": "markdown",
   "metadata": {},
   "source": [
    "Test Helper - Read PDF File"
   ]
  },
  {
   "cell_type": "code",
   "execution_count": 25,
   "metadata": {},
   "outputs": [],
   "source": [
    "def read_file(file_path):\n",
    "    with open(file_path, \"rb\") as file:\n",
    "        if file.name.endswith(\".pdf\"):\n",
    "            try:\n",
    "                pdf_reader=PyPDF2.PdfReader(file)\n",
    "                text=\"\"\n",
    "                for page in pdf_reader.pages:\n",
    "                    text+=page.extract_text()\n",
    "                return text\n",
    "                \n",
    "            except Exception as e:\n",
    "                raise Exception(\"error reading the PDF file\")\n",
    "            \n",
    "        elif file.name.endswith(\".txt\"):\n",
    "            return file.read().decode(\"utf-8\")\n",
    "        \n",
    "        else:\n",
    "            raise Exception(\n",
    "                \"unsupported file format only pdf and text file suppoted\"\n",
    "                )\n"
   ]
  },
  {
   "cell_type": "code",
   "execution_count": 27,
   "metadata": {},
   "outputs": [],
   "source": [
    "import PyPDF2\n",
    "file_path=(\"stats text.pdf\")\n",
    "# mytext = read_file(file_path)\n",
    "with open(file_path, \"rb\") as file:    \n",
    "    pdf_reader=PyPDF2.PdfReader(file)\n",
    "    text=\"\"\n",
    "    for page in pdf_reader.pages:\n",
    "        text += page.extract_text()\n",
    "\n"
   ]
  },
  {
   "cell_type": "code",
   "execution_count": 28,
   "metadata": {},
   "outputs": [
    {
     "data": {
      "text/plain": [
       "3"
      ]
     },
     "execution_count": 28,
     "metadata": {},
     "output_type": "execute_result"
    }
   ],
   "source": [
    "len(pdf_reader.pages)"
   ]
  },
  {
   "cell_type": "code",
   "execution_count": 29,
   "metadata": {},
   "outputs": [
    {
     "data": {
      "text/plain": [
       "'stats text.pdf'"
      ]
     },
     "execution_count": 29,
     "metadata": {},
     "output_type": "execute_result"
    }
   ],
   "source": [
    "file.name"
   ]
  }
 ],
 "metadata": {
  "kernelspec": {
   "display_name": "Python 3",
   "language": "python",
   "name": "python3"
  },
  "language_info": {
   "codemirror_mode": {
    "name": "ipython",
    "version": 3
   },
   "file_extension": ".py",
   "mimetype": "text/x-python",
   "name": "python",
   "nbconvert_exporter": "python",
   "pygments_lexer": "ipython3",
   "version": "3.11.9"
  }
 },
 "nbformat": 4,
 "nbformat_minor": 2
}
