{
 "cells": [
  {
   "cell_type": "markdown",
   "metadata": {},
   "source": [
    "## 1. API and Other Setup\n",
    "Here I use the Meta Llama 3 \"llama3-8b-8192\" model available through groq. \n",
    "The task has two steps: the first step uses the LLM to generate a quiz with questions related to a statistics area. The user (a.k.a, human) can specify the number of questions, the area, and the grade or grade level (e.g., \"middle school\"). The user can provide some text. The second step asks the LLM to evaluate the quiz."
   ]
  },
  {
   "cell_type": "code",
   "execution_count": 1,
   "metadata": {},
   "outputs": [],
   "source": [
    "# import getpass\n",
    "import os\n",
    "import json\n",
    "import pandas as pd\n",
    "\n",
    "# os.environ[\"OPENAI_API_KEY\"] = getpass.getpass()\n",
    "\n",
    "from dotenv import load_dotenv\n",
    "\n",
    "load_dotenv()  # take environment variables from .env.\n",
    "KEY=os.getenv(\"GROQ_API_KEY\")\n"
   ]
  },
  {
   "cell_type": "code",
   "execution_count": 2,
   "metadata": {},
   "outputs": [],
   "source": [
    "from operator import itemgetter\n",
    "from langchain_core.prompts import PromptTemplate\n",
    "# from langchain_core.output_parsers import StrOutputParser\n",
    "from langchain_core.runnables import RunnablePassthrough, RunnableLambda\n",
    "# !pip install -qU langchain-groq\n",
    "from langchain_groq import ChatGroq\n",
    "\n",
    "\n",
    "model = ChatGroq(groq_api_key= KEY, model=\"llama3-8b-8192\")\n",
    "# parser = StrOutputParser()\n",
    "# model_parser = model | parser"
   ]
  },
  {
   "cell_type": "code",
   "execution_count": 3,
   "metadata": {},
   "outputs": [],
   "source": [
    "RESPONSE_JSON = {\n",
    "    \"1\": {\n",
    "        \"STATSQA\": \"multiple choice question\",\n",
    "        \"options\": {\n",
    "            \"a\": \"choice here\",\n",
    "            \"b\": \"choice here\",\n",
    "            \"c\": \"choice here\",\n",
    "            \"d\": \"choice here\"\n",
    "        },\n",
    "        \"correct\": \"correct answer\"\n",
    "    },\n",
    "    \"2\": {\n",
    "        \"STATSQA\": \"multiple choice question\",\n",
    "        \"options\": {\n",
    "            \"a\": \"choice here\",\n",
    "            \"b\": \"choice here\",\n",
    "            \"c\": \"choice here\",\n",
    "            \"d\": \"choice here\"\n",
    "        },\n",
    "        \"correct\": \"correct answer\"\n",
    "    },\n",
    "    \"3\": {\n",
    "        \"STATSQA\": \"multiple choice question\",\n",
    "        \"options\": {\n",
    "            \"a\": \"choice here\",\n",
    "            \"b\": \"choice here\",\n",
    "            \"c\": \"choice here\",\n",
    "            \"d\": \"choice here\"\n",
    "        },\n",
    "        \"correct\": \"correct answer\"\n",
    "    }\n",
    "}"
   ]
  },
  {
   "cell_type": "code",
   "execution_count": 4,
   "metadata": {},
   "outputs": [],
   "source": [
    "TEMPLATE=\"\"\"\n",
    "Text:{text}\n",
    "You are an expert STATSQA maker. Given the above text, it is your job to \\\n",
    "create a quiz of {number} multiple choice questions related to {area} for students in {grade}. \n",
    "Make sure the questions are not repeated. Your response should be formated like RESPONSE_JSON below with {number} of items. \\\n",
    "Ensure to generate {number} questions.\n",
    "### RESPONSE_JSON\n",
    "{response_json} \\\n",
    "\n",
    "\"\"\""
   ]
  },
  {
   "cell_type": "code",
   "execution_count": 5,
   "metadata": {},
   "outputs": [],
   "source": [
    "TEMPLATE2=\"\"\"\n",
    "You are an expert of English grammar. \\\n",
    "You are given a STATSQA quiz: {quiz} of multiple choice questions related to {area} in statistics.\\\n",
    "You need to evaluate the complexity of the quiz. Use at most 50 words for complexity analysis. \\\n",
    "If the quiz is too easy or too difficult for students in {grade}, \n",
    "update the quiz questions to make it more suitable for the students in {grade}.\n",
    "\n",
    "Check from an expert English Writer of the above quiz:\n",
    "\"\"\""
   ]
  },
  {
   "cell_type": "markdown",
   "metadata": {},
   "source": [
    "## 2. Use LangChain Expression Language (LCEL)"
   ]
  },
  {
   "cell_type": "code",
   "execution_count": 6,
   "metadata": {},
   "outputs": [],
   "source": [
    "quiz_generation_prompt = PromptTemplate(\n",
    "    template=TEMPLATE, \n",
    "    input_variables=[\"text\", \"number\", \"area\", \"grade\", \"response_json\"]\n",
    ")\n",
    "# quiz_generation_prompt = PromptTemplate.from_template(\n",
    "#     template=TEMPLATE\n",
    "# )"
   ]
  },
  {
   "cell_type": "code",
   "execution_count": 7,
   "metadata": {},
   "outputs": [],
   "source": [
    "quiz_evaluation_prompt = PromptTemplate.from_template(TEMPLATE2)"
   ]
  },
  {
   "cell_type": "code",
   "execution_count": 8,
   "metadata": {},
   "outputs": [],
   "source": [
    "quiz_generation_chain= quiz_generation_prompt | model"
   ]
  },
  {
   "cell_type": "code",
   "execution_count": 9,
   "metadata": {},
   "outputs": [],
   "source": [
    "quiz_evaluation_chain = quiz_evaluation_prompt | model"
   ]
  },
  {
   "cell_type": "code",
   "execution_count": 10,
   "metadata": {},
   "outputs": [],
   "source": [
    "dirname = os.getcwd()\n",
    "file_path=os.path.join(dirname, \"..\", \"data.txt\")\n",
    "with open(file_path, 'r') as file:\n",
    "    TEXT = file.read()"
   ]
  },
  {
   "cell_type": "code",
   "execution_count": 11,
   "metadata": {},
   "outputs": [],
   "source": [
    "NUMBER=5\n",
    "AERA =\"hypothesis testing\"\n",
    "GRADE=\"middle school\""
   ]
  },
  {
   "cell_type": "code",
   "execution_count": 12,
   "metadata": {},
   "outputs": [],
   "source": [
    "# quiz_generation_chain.invoke(\n",
    "#     {\n",
    "#         \"text\": TEXT,\n",
    "#         \"number\": NUMBER,\n",
    "#         \"area\": AERA,\n",
    "#         \"grade\": GRADE,\n",
    "#         \"response_json\": json.dumps(RESPONSE_JSON),\n",
    "#     }\n",
    "# )"
   ]
  },
  {
   "cell_type": "code",
   "execution_count": 13,
   "metadata": {},
   "outputs": [],
   "source": [
    "complete_chain = ({\n",
    "    \"text\": itemgetter(\"text\"),\n",
    "    \"number\": itemgetter(\"number\"),\n",
    "    \"area\": itemgetter(\"area\"),\n",
    "    \"grade\": itemgetter(\"grade\"),\n",
    "    \"response_json\": itemgetter(\"response_json\"),\n",
    "    \"quiz\": quiz_generation_chain\n",
    "    }\n",
    "    | RunnablePassthrough.assign(eval=quiz_evaluation_chain)\n",
    ")"
   ]
  },
  {
   "cell_type": "code",
   "execution_count": 14,
   "metadata": {},
   "outputs": [],
   "source": [
    "all_result = complete_chain.invoke(\n",
    "    {\n",
    "        \"text\": TEXT,\n",
    "        \"number\": NUMBER,\n",
    "        \"area\": AERA,\n",
    "        \"grade\": GRADE,\n",
    "        \"response_json\": json.dumps(RESPONSE_JSON)\n",
    "    }\n",
    ")"
   ]
  },
  {
   "cell_type": "code",
   "execution_count": 15,
   "metadata": {},
   "outputs": [],
   "source": [
    "# quiz_evaluation_chain.invoke(\n",
    "#     {\n",
    "#         \"area\": \"point estimation\",\n",
    "#         \"grade\": \"high school\",\n",
    "#         \"quiz\": quiz_generation_chain\n",
    "#     }\n",
    "# )"
   ]
  },
  {
   "cell_type": "code",
   "execution_count": 16,
   "metadata": {},
   "outputs": [
    {
     "data": {
      "text/plain": [
       "{'text': 'Estimation statistics, or simply estimation, is a data analysis framework that uses a combination of effect sizes, confidence intervals, precision planning, and meta-analysis to plan experiments, analyze data and interpret results.[1] It complements hypothesis testing approaches such as null hypothesis significance testing (NHST), by going beyond the question is an effect present or not, and provides information about how large an effect is.[2][3] Estimation statistics is sometimes referred to as the new statistics.[3][4][5]\\n\\nThe primary aim of estimation methods is to report an effect size (a point estimate) along with its confidence interval, the latter of which is related to the precision of the estimate.[6] The confidence interval summarizes a range of likely values of the underlying population effect. Proponents of estimation see reporting a P value as an unhelpful distraction from the important business of reporting an effect size with its confidence intervals,[7] and believe that estimation should replace significance testing for data analysis.[8][9]',\n",
       " 'number': 5,\n",
       " 'area': 'hypothesis testing',\n",
       " 'grade': 'middle school',\n",
       " 'response_json': '{\"1\": {\"STATSQA\": \"multiple choice question\", \"options\": {\"a\": \"choice here\", \"b\": \"choice here\", \"c\": \"choice here\", \"d\": \"choice here\"}, \"correct\": \"correct answer\"}, \"2\": {\"STATSQA\": \"multiple choice question\", \"options\": {\"a\": \"choice here\", \"b\": \"choice here\", \"c\": \"choice here\", \"d\": \"choice here\"}, \"correct\": \"correct answer\"}, \"3\": {\"STATSQA\": \"multiple choice question\", \"options\": {\"a\": \"choice here\", \"b\": \"choice here\", \"c\": \"choice here\", \"d\": \"choice here\"}, \"correct\": \"correct answer\"}}',\n",
       " 'quiz': AIMessage(content='Here is the quiz in the requested format:\\n\\n{\"1\": {\"STATSQA\": \"What is the primary aim of estimation methods?\", \"options\": {\"a\": \"To test if an effect is present or not\", \"b\": \"To report an effect size along with its confidence interval\", \"c\": \"To determine the significance of the results\", \"d\": \"To compare the results with other studies\"}, \"correct\": \"b\"}, \"2\": {\"STATSQA\": \"What is the function of a confidence interval in estimation statistics?\", \"options\": {\"a\": \"To determine the significance of the results\", \"b\": \"To summarize a range of likely values of the underlying population effect\", \"c\": \"To test if an effect is present or not\", \"d\": \"To report an effect size along with its precision\"}, \"correct\": \"b\"}, \"3\": {\"STATSQA\": \"What do proponents of estimation statistics see as an unhelpful distraction?\", \"options\": {\"a\": \"Hypothesis testing\", \"b\": \"Null hypothesis significance testing\", \"c\": \"Reporting a P value\", \"d\": \"Meta-analysis\"}, \"correct\": \"c\"}, \"4\": {\"STATSQA\": \"What is the term sometimes used to refer to estimation statistics?\", \"options\": {\"a\": \"New data analysis\", \"b\": \"New statistics\", \"c\": \"New estimation\", \"d\": \"New hypothesis testing\"}, \"correct\": \"b\"}, \"5\": {\"STATSQA\": \"What is an advantage of estimation statistics over null hypothesis significance testing?\", \"options\": {\"a\": \"It provides more precise results\", \"b\": \"It reports a point estimate along with its confidence interval\", \"c\": \"It is more widely used\", \"d\": \"It is less complex\"}, \"correct\": \"b\"}}\\n\\nNote: The questions are written in a way that is suitable for middle school students, and the options are designed to be clear and easy to understand.', response_metadata={'token_usage': {'completion_tokens': 409, 'prompt_tokens': 441, 'total_tokens': 850, 'completion_time': 0.325391317, 'prompt_time': 0.074626661, 'queue_time': None, 'total_time': 0.400017978}, 'model_name': 'llama3-8b-8192', 'system_fingerprint': 'fp_c4a72fb330', 'finish_reason': 'stop', 'logprobs': None}, id='run-ec8581ca-9ec7-4f20-9eed-f56ab37b885f-0'),\n",
       " 'eval': AIMessage(content='After reviewing the quiz, I\\'d rate its complexity as moderate. The language is clear and concise, making it accessible to middle school students. The vocabulary is not overly technical, and the options are well-crafted to guide students towards the correct answers.\\n\\nHowever, the concepts presented may still be challenging for some middle school students, especially if they have limited exposure to hypothesis testing and estimation statistics. To make the quiz more suitable for middle school students, I\\'d suggest rephrasing some questions to make them more concrete and relatable.\\n\\nFor example, question 1 could be rephrased to \"What do estimation methods aim to do?\" instead of \"What is the primary aim of estimation methods?\" This would make the question more student-friendly and easier to understand.\\n\\nAdditionally, providing real-life examples or scenarios to illustrate the concepts could help students better grasp the ideas. This might involve adding a few context sentences or scenarios before each question to make the content more relatable and engaging.\\n\\nOverall, with some minor adjustments, the quiz can be made more accessible and effective for middle school students.', response_metadata={'token_usage': {'completion_tokens': 218, 'prompt_tokens': 651, 'total_tokens': 869, 'completion_time': 0.177093383, 'prompt_time': 0.099317612, 'queue_time': None, 'total_time': 0.276410995}, 'model_name': 'llama3-8b-8192', 'system_fingerprint': 'fp_6a6771ae9c', 'finish_reason': 'stop', 'logprobs': None}, id='run-e3fc030b-4b35-4202-8705-c7bc2448e573-0')}"
      ]
     },
     "execution_count": 16,
     "metadata": {},
     "output_type": "execute_result"
    }
   ],
   "source": [
    "all_result"
   ]
  },
  {
   "cell_type": "code",
   "execution_count": 17,
   "metadata": {},
   "outputs": [
    {
     "data": {
      "text/plain": [
       "AIMessage(content='After reviewing the quiz, I\\'d rate its complexity as moderate. The language is clear and concise, making it accessible to middle school students. The vocabulary is not overly technical, and the options are well-crafted to guide students towards the correct answers.\\n\\nHowever, the concepts presented may still be challenging for some middle school students, especially if they have limited exposure to hypothesis testing and estimation statistics. To make the quiz more suitable for middle school students, I\\'d suggest rephrasing some questions to make them more concrete and relatable.\\n\\nFor example, question 1 could be rephrased to \"What do estimation methods aim to do?\" instead of \"What is the primary aim of estimation methods?\" This would make the question more student-friendly and easier to understand.\\n\\nAdditionally, providing real-life examples or scenarios to illustrate the concepts could help students better grasp the ideas. This might involve adding a few context sentences or scenarios before each question to make the content more relatable and engaging.\\n\\nOverall, with some minor adjustments, the quiz can be made more accessible and effective for middle school students.', response_metadata={'token_usage': {'completion_tokens': 218, 'prompt_tokens': 651, 'total_tokens': 869, 'completion_time': 0.177093383, 'prompt_time': 0.099317612, 'queue_time': None, 'total_time': 0.276410995}, 'model_name': 'llama3-8b-8192', 'system_fingerprint': 'fp_6a6771ae9c', 'finish_reason': 'stop', 'logprobs': None}, id='run-e3fc030b-4b35-4202-8705-c7bc2448e573-0')"
      ]
     },
     "execution_count": 17,
     "metadata": {},
     "output_type": "execute_result"
    }
   ],
   "source": [
    "all_result.get(\"eval\")"
   ]
  },
  {
   "cell_type": "markdown",
   "metadata": {},
   "source": [
    "Process the string outcome in \"quiz\" to be JSON string"
   ]
  },
  {
   "cell_type": "code",
   "execution_count": 18,
   "metadata": {},
   "outputs": [
    {
     "name": "stdout",
     "output_type": "stream",
     "text": [
      "{\"1\": {\"STATSQA\": \"What is the primary aim of estimation methods?\", \"options\": {\"a\": \"To test if an effect is present or not\", \"b\": \"To report an effect size along with its confidence interval\", \"c\": \"To determine the significance of the results\", \"d\": \"To compare the results with other studies\"}, \"correct\": \"b\"}, \"2\": {\"STATSQA\": \"What is the function of a confidence interval in estimation statistics?\", \"options\": {\"a\": \"To determine the significance of the results\", \"b\": \"To summarize a range of likely values of the underlying population effect\", \"c\": \"To test if an effect is present or not\", \"d\": \"To report an effect size along with its precision\"}, \"correct\": \"b\"}, \"3\": {\"STATSQA\": \"What do proponents of estimation statistics see as an unhelpful distraction?\", \"options\": {\"a\": \"Hypothesis testing\", \"b\": \"Null hypothesis significance testing\", \"c\": \"Reporting a P value\", \"d\": \"Meta-analysis\"}, \"correct\": \"c\"}, \"4\": {\"STATSQA\": \"What is the term sometimes used to refer to estimation statistics?\", \"options\": {\"a\": \"New data analysis\", \"b\": \"New statistics\", \"c\": \"New estimation\", \"d\": \"New hypothesis testing\"}, \"correct\": \"b\"}, \"5\": {\"STATSQA\": \"What is an advantage of estimation statistics over null hypothesis significance testing?\", \"options\": {\"a\": \"It provides more precise results\", \"b\": \"It reports a point estimate along with its confidence interval\", \"c\": \"It is more widely used\", \"d\": \"It is less complex\"}, \"correct\": \"b\"}}\n"
     ]
    }
   ],
   "source": [
    "import json\n",
    "\n",
    "def extract_between_braces(s):\n",
    "    start = s.find('{')\n",
    "    # Ensure the character after the first '{' is not another '{'\n",
    "    while start != -1 and start + 1 < len(s) and s[start + 1] == '{':\n",
    "        start = s.find('{', start + 1)\n",
    "    \n",
    "    end = s.rfind('}}')\n",
    "    \n",
    "    if start != -1 and end != -1 and end > start:\n",
    "        return \"{\" + s[start+1:end] + \"}}\"\n",
    "    return \"\"\n",
    "\n",
    "quiz_string = all_result.get(\"quiz\").content\n",
    "quiz_string = extract_between_braces(quiz_string)\n",
    "print(quiz_string)\n"
   ]
  },
  {
   "cell_type": "code",
   "execution_count": 19,
   "metadata": {},
   "outputs": [],
   "source": [
    "quiz = json.loads(quiz_string)"
   ]
  },
  {
   "cell_type": "code",
   "execution_count": 20,
   "metadata": {},
   "outputs": [
    {
     "data": {
      "text/plain": [
       "{'1': {'STATSQA': 'What is the primary aim of estimation methods?',\n",
       "  'options': {'a': 'To test if an effect is present or not',\n",
       "   'b': 'To report an effect size along with its confidence interval',\n",
       "   'c': 'To determine the significance of the results',\n",
       "   'd': 'To compare the results with other studies'},\n",
       "  'correct': 'b'},\n",
       " '2': {'STATSQA': 'What is the function of a confidence interval in estimation statistics?',\n",
       "  'options': {'a': 'To determine the significance of the results',\n",
       "   'b': 'To summarize a range of likely values of the underlying population effect',\n",
       "   'c': 'To test if an effect is present or not',\n",
       "   'd': 'To report an effect size along with its precision'},\n",
       "  'correct': 'b'},\n",
       " '3': {'STATSQA': 'What do proponents of estimation statistics see as an unhelpful distraction?',\n",
       "  'options': {'a': 'Hypothesis testing',\n",
       "   'b': 'Null hypothesis significance testing',\n",
       "   'c': 'Reporting a P value',\n",
       "   'd': 'Meta-analysis'},\n",
       "  'correct': 'c'},\n",
       " '4': {'STATSQA': 'What is the term sometimes used to refer to estimation statistics?',\n",
       "  'options': {'a': 'New data analysis',\n",
       "   'b': 'New statistics',\n",
       "   'c': 'New estimation',\n",
       "   'd': 'New hypothesis testing'},\n",
       "  'correct': 'b'},\n",
       " '5': {'STATSQA': 'What is an advantage of estimation statistics over null hypothesis significance testing?',\n",
       "  'options': {'a': 'It provides more precise results',\n",
       "   'b': 'It reports a point estimate along with its confidence interval',\n",
       "   'c': 'It is more widely used',\n",
       "   'd': 'It is less complex'},\n",
       "  'correct': 'b'}}"
      ]
     },
     "execution_count": 20,
     "metadata": {},
     "output_type": "execute_result"
    }
   ],
   "source": [
    "quiz"
   ]
  },
  {
   "cell_type": "code",
   "execution_count": 21,
   "metadata": {},
   "outputs": [],
   "source": [
    "quiz_table_data = []\n",
    "for key, value in quiz.items():\n",
    "    STATSQA = value[\"STATSQA\"]\n",
    "    options = \" | \".join(\n",
    "        [\n",
    "            f\"{option}: {option_value}\"\n",
    "            for option, option_value in value[\"options\"].items()\n",
    "            ]\n",
    "        )\n",
    "    correct = value[\"correct\"]\n",
    "    quiz_table_data.append({\"STATSQA\": STATSQA, \"Choices\": options, \"Correct\": correct})"
   ]
  },
  {
   "cell_type": "code",
   "execution_count": 22,
   "metadata": {},
   "outputs": [
    {
     "data": {
      "text/html": [
       "<div>\n",
       "<style scoped>\n",
       "    .dataframe tbody tr th:only-of-type {\n",
       "        vertical-align: middle;\n",
       "    }\n",
       "\n",
       "    .dataframe tbody tr th {\n",
       "        vertical-align: top;\n",
       "    }\n",
       "\n",
       "    .dataframe thead th {\n",
       "        text-align: right;\n",
       "    }\n",
       "</style>\n",
       "<table border=\"1\" class=\"dataframe\">\n",
       "  <thead>\n",
       "    <tr style=\"text-align: right;\">\n",
       "      <th></th>\n",
       "      <th>STATSQA</th>\n",
       "      <th>Choices</th>\n",
       "      <th>Correct</th>\n",
       "    </tr>\n",
       "  </thead>\n",
       "  <tbody>\n",
       "    <tr>\n",
       "      <th>0</th>\n",
       "      <td>What is the primary aim of estimation methods?</td>\n",
       "      <td>a: To test if an effect is present or not | b:...</td>\n",
       "      <td>b</td>\n",
       "    </tr>\n",
       "    <tr>\n",
       "      <th>1</th>\n",
       "      <td>What is the function of a confidence interval ...</td>\n",
       "      <td>a: To determine the significance of the result...</td>\n",
       "      <td>b</td>\n",
       "    </tr>\n",
       "    <tr>\n",
       "      <th>2</th>\n",
       "      <td>What do proponents of estimation statistics se...</td>\n",
       "      <td>a: Hypothesis testing | b: Null hypothesis sig...</td>\n",
       "      <td>c</td>\n",
       "    </tr>\n",
       "    <tr>\n",
       "      <th>3</th>\n",
       "      <td>What is the term sometimes used to refer to es...</td>\n",
       "      <td>a: New data analysis | b: New statistics | c: ...</td>\n",
       "      <td>b</td>\n",
       "    </tr>\n",
       "    <tr>\n",
       "      <th>4</th>\n",
       "      <td>What is an advantage of estimation statistics ...</td>\n",
       "      <td>a: It provides more precise results | b: It re...</td>\n",
       "      <td>b</td>\n",
       "    </tr>\n",
       "  </tbody>\n",
       "</table>\n",
       "</div>"
      ],
      "text/plain": [
       "                                             STATSQA  \\\n",
       "0     What is the primary aim of estimation methods?   \n",
       "1  What is the function of a confidence interval ...   \n",
       "2  What do proponents of estimation statistics se...   \n",
       "3  What is the term sometimes used to refer to es...   \n",
       "4  What is an advantage of estimation statistics ...   \n",
       "\n",
       "                                             Choices Correct  \n",
       "0  a: To test if an effect is present or not | b:...       b  \n",
       "1  a: To determine the significance of the result...       b  \n",
       "2  a: Hypothesis testing | b: Null hypothesis sig...       c  \n",
       "3  a: New data analysis | b: New statistics | c: ...       b  \n",
       "4  a: It provides more precise results | b: It re...       b  "
      ]
     },
     "execution_count": 22,
     "metadata": {},
     "output_type": "execute_result"
    }
   ],
   "source": [
    "quiz=pd.DataFrame(quiz_table_data)\n",
    "quiz"
   ]
  },
  {
   "cell_type": "code",
   "execution_count": 23,
   "metadata": {},
   "outputs": [],
   "source": [
    "quiz.to_csv(f\"quiz_on_{AERA}.csv\",index=False)"
   ]
  },
  {
   "cell_type": "code",
   "execution_count": 24,
   "metadata": {},
   "outputs": [
    {
     "data": {
      "text/html": [
       "<div>\n",
       "<style scoped>\n",
       "    .dataframe tbody tr th:only-of-type {\n",
       "        vertical-align: middle;\n",
       "    }\n",
       "\n",
       "    .dataframe tbody tr th {\n",
       "        vertical-align: top;\n",
       "    }\n",
       "\n",
       "    .dataframe thead th {\n",
       "        text-align: right;\n",
       "    }\n",
       "</style>\n",
       "<table border=\"1\" class=\"dataframe\">\n",
       "  <thead>\n",
       "    <tr style=\"text-align: right;\">\n",
       "      <th></th>\n",
       "      <th>STATSQA</th>\n",
       "      <th>Choices</th>\n",
       "      <th>Correct</th>\n",
       "    </tr>\n",
       "  </thead>\n",
       "  <tbody>\n",
       "    <tr>\n",
       "      <th>0</th>\n",
       "      <td>What is the primary aim of estimation methods?</td>\n",
       "      <td>a: To test if an effect is present or not | b:...</td>\n",
       "      <td>b</td>\n",
       "    </tr>\n",
       "    <tr>\n",
       "      <th>1</th>\n",
       "      <td>What is the function of a confidence interval ...</td>\n",
       "      <td>a: To determine the significance of the result...</td>\n",
       "      <td>b</td>\n",
       "    </tr>\n",
       "    <tr>\n",
       "      <th>2</th>\n",
       "      <td>What do proponents of estimation statistics se...</td>\n",
       "      <td>a: Hypothesis testing | b: Null hypothesis sig...</td>\n",
       "      <td>c</td>\n",
       "    </tr>\n",
       "    <tr>\n",
       "      <th>3</th>\n",
       "      <td>What is the term sometimes used to refer to es...</td>\n",
       "      <td>a: New data analysis | b: New statistics | c: ...</td>\n",
       "      <td>b</td>\n",
       "    </tr>\n",
       "    <tr>\n",
       "      <th>4</th>\n",
       "      <td>What is an advantage of estimation statistics ...</td>\n",
       "      <td>a: It provides more precise results | b: It re...</td>\n",
       "      <td>b</td>\n",
       "    </tr>\n",
       "  </tbody>\n",
       "</table>\n",
       "</div>"
      ],
      "text/plain": [
       "                                             STATSQA  \\\n",
       "0     What is the primary aim of estimation methods?   \n",
       "1  What is the function of a confidence interval ...   \n",
       "2  What do proponents of estimation statistics se...   \n",
       "3  What is the term sometimes used to refer to es...   \n",
       "4  What is an advantage of estimation statistics ...   \n",
       "\n",
       "                                             Choices Correct  \n",
       "0  a: To test if an effect is present or not | b:...       b  \n",
       "1  a: To determine the significance of the result...       b  \n",
       "2  a: Hypothesis testing | b: Null hypothesis sig...       c  \n",
       "3  a: New data analysis | b: New statistics | c: ...       b  \n",
       "4  a: It provides more precise results | b: It re...       b  "
      ]
     },
     "execution_count": 24,
     "metadata": {},
     "output_type": "execute_result"
    }
   ],
   "source": [
    "quiz"
   ]
  }
 ],
 "metadata": {
  "kernelspec": {
   "display_name": "Python 3",
   "language": "python",
   "name": "python3"
  },
  "language_info": {
   "codemirror_mode": {
    "name": "ipython",
    "version": 3
   },
   "file_extension": ".py",
   "mimetype": "text/x-python",
   "name": "python",
   "nbconvert_exporter": "python",
   "pygments_lexer": "ipython3",
   "version": "3.11.9"
  }
 },
 "nbformat": 4,
 "nbformat_minor": 2
}
