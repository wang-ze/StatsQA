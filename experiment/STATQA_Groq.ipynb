{
 "cells": [
  {
   "cell_type": "markdown",
   "metadata": {},
   "source": [
    "## 1. API and Other Setup\n",
    "Here I use the Meta Llama 3 \"llama3-8b-8192\" model available through groq. \n",
    "The task has two steps: the first step uses the LLM to generate a quiz with questions related to a statistics area. The user (a.k.a, human) can specify the number of questions, the area, and the grade or grade level (e.g., \"middle school\"). The user can provide some text. The second step asks the LLM to evaluate the quiz."
   ]
  },
  {
   "cell_type": "code",
   "execution_count": 1,
   "metadata": {},
   "outputs": [],
   "source": [
    "# import getpass\n",
    "import os\n",
    "import json\n",
    "import pandas as pd\n",
    "\n",
    "# os.environ[\"OPENAI_API_KEY\"] = getpass.getpass()\n",
    "\n",
    "from dotenv import load_dotenv\n",
    "\n",
    "load_dotenv()  # take environment variables from .env.\n",
    "KEY=os.getenv(\"GROQ_API_KEY\")\n"
   ]
  },
  {
   "cell_type": "code",
   "execution_count": 2,
   "metadata": {},
   "outputs": [],
   "source": [
    "from operator import itemgetter\n",
    "from langchain_core.prompts import PromptTemplate\n",
    "# from langchain_core.output_parsers import StrOutputParser\n",
    "from langchain_core.runnables import RunnablePassthrough, RunnableLambda\n",
    "# !pip install -qU langchain-groq\n",
    "from langchain_groq import ChatGroq\n",
    "\n",
    "\n",
    "model = ChatGroq(groq_api_key= KEY, model=\"llama3-8b-8192\")\n",
    "# parser = StrOutputParser()\n",
    "# model_parser = model | parser"
   ]
  },
  {
   "cell_type": "code",
   "execution_count": 3,
   "metadata": {},
   "outputs": [],
   "source": [
    "RESPONSE_JSON = {\n",
    "    \"1\": {\n",
    "        \"STATSQA\": \"multiple choice question\",\n",
    "        \"options\": {\n",
    "            \"a\": \"choice here\",\n",
    "            \"b\": \"choice here\",\n",
    "            \"c\": \"choice here\",\n",
    "            \"d\": \"choice here\",\n",
    "        },\n",
    "        \"correct\": \"correct answer\",\n",
    "    },\n",
    "    \"2\": {\n",
    "        \"STATSQA\": \"multiple choice question\",\n",
    "        \"options\": {\n",
    "            \"a\": \"choice here\",\n",
    "            \"b\": \"choice here\",\n",
    "            \"c\": \"choice here\",\n",
    "            \"d\": \"choice here\",\n",
    "        },\n",
    "        \"correct\": \"correct answer\",\n",
    "    },\n",
    "    \"3\": {\n",
    "        \"STATSQA\": \"multiple choice question\",\n",
    "        \"options\": {\n",
    "            \"a\": \"choice here\",\n",
    "            \"b\": \"choice here\",\n",
    "            \"c\": \"choice here\",\n",
    "            \"d\": \"choice here\",\n",
    "        },\n",
    "        \"correct\": \"correct answer\",\n",
    "    },\n",
    "}\n"
   ]
  },
  {
   "cell_type": "code",
   "execution_count": 4,
   "metadata": {},
   "outputs": [],
   "source": [
    "TEMPLATE=\"\"\"\n",
    "Text:{text}\n",
    "You are an expert STATSQA maker. Given the above text, it is your job to \\\n",
    "create a quiz of {number} multiple choice questions related to {area} for students in {grade}. \n",
    "Make sure the questions are not repeated. Your response should be formated like RESPONSE_JSON below with {number} of items. \\\n",
    "Ensure to generate {number} questions.\n",
    "### RESPONSE_JSON\n",
    "{response_json} \\\n",
    "\n",
    "\"\"\""
   ]
  },
  {
   "cell_type": "code",
   "execution_count": 5,
   "metadata": {},
   "outputs": [],
   "source": [
    "TEMPLATE2=\"\"\"\n",
    "You are an expert of English grammar. \\\n",
    "You are given a STATSQA quiz: {quiz} of multiple choice questions related to {area} in statistics.\\\n",
    "You need to evaluate the complexity of the quiz. Use at most 50 words for complexity analysis. \\\n",
    "If the quiz is too easy or too difficult for students in {grade}, \n",
    "update the quiz questions to make it more suitable for the students in {grade}.\n",
    "\n",
    "Check from an expert English Writer of the above quiz:\n",
    "\"\"\""
   ]
  },
  {
   "cell_type": "markdown",
   "metadata": {},
   "source": [
    "## 2. Use LangChain Expression Language (LCEL)"
   ]
  },
  {
   "cell_type": "code",
   "execution_count": 6,
   "metadata": {},
   "outputs": [],
   "source": [
    "quiz_generation_prompt = PromptTemplate(\n",
    "    template=TEMPLATE, \n",
    "    input_variables=[\"text\", \"number\", \"area\", \"grade\", \"response_json\"]\n",
    ")\n",
    "# quiz_generation_prompt = PromptTemplate.from_template(\n",
    "#     template=TEMPLATE\n",
    "# )"
   ]
  },
  {
   "cell_type": "code",
   "execution_count": 7,
   "metadata": {},
   "outputs": [],
   "source": [
    "quiz_evaluation_prompt = PromptTemplate.from_template(TEMPLATE2)"
   ]
  },
  {
   "cell_type": "code",
   "execution_count": 8,
   "metadata": {},
   "outputs": [],
   "source": [
    "quiz_generation_chain= quiz_generation_prompt | model"
   ]
  },
  {
   "cell_type": "code",
   "execution_count": 9,
   "metadata": {},
   "outputs": [],
   "source": [
    "quiz_evaluation_chain = quiz_evaluation_prompt | model"
   ]
  },
  {
   "cell_type": "code",
   "execution_count": 10,
   "metadata": {},
   "outputs": [],
   "source": [
    "dirname = os.getcwd()\n",
    "file_path=os.path.join(dirname, \"..\", \"data.txt\")\n",
    "with open(file_path, 'r') as file:\n",
    "    TEXT = file.read()"
   ]
  },
  {
   "cell_type": "code",
   "execution_count": 11,
   "metadata": {},
   "outputs": [],
   "source": [
    "NUMBER=5\n",
    "AERA =\"estimation\"\n",
    "GRADE=\"middle school\""
   ]
  },
  {
   "cell_type": "code",
   "execution_count": 12,
   "metadata": {},
   "outputs": [],
   "source": [
    "# quiz_generation_chain.invoke(\n",
    "#     {\n",
    "#         \"text\": TEXT,\n",
    "#         \"number\": NUMBER,\n",
    "#         \"area\": AERA,\n",
    "#         \"grade\": GRADE,\n",
    "#         \"response_json\": json.dumps(RESPONSE_JSON),\n",
    "#     }\n",
    "# )"
   ]
  },
  {
   "cell_type": "code",
   "execution_count": 13,
   "metadata": {},
   "outputs": [],
   "source": [
    "complete_chain = ({\n",
    "    \"text\": itemgetter(\"text\"),\n",
    "    \"number\": itemgetter(\"number\"),\n",
    "    \"area\": itemgetter(\"area\"),\n",
    "    \"grade\": itemgetter(\"grade\"),\n",
    "    \"response_json\": itemgetter(\"response_json\"),\n",
    "    \"quiz\": quiz_generation_chain\n",
    "    }\n",
    "    | RunnablePassthrough.assign(eval=quiz_evaluation_chain)\n",
    ")"
   ]
  },
  {
   "cell_type": "code",
   "execution_count": 14,
   "metadata": {},
   "outputs": [],
   "source": [
    "all_result = complete_chain.invoke(\n",
    "    {\n",
    "        \"text\": TEXT,\n",
    "        \"number\": NUMBER,\n",
    "        \"area\": AERA,\n",
    "        \"grade\": GRADE,\n",
    "        \"response_json\": json.dumps(RESPONSE_JSON)\n",
    "    }\n",
    ")"
   ]
  },
  {
   "cell_type": "code",
   "execution_count": 15,
   "metadata": {},
   "outputs": [],
   "source": [
    "# quiz_evaluation_chain.invoke(\n",
    "#     {\n",
    "#         \"area\": \"point estimation\",\n",
    "#         \"grade\": \"high school\",\n",
    "#         \"quiz\": quiz_generation_chain\n",
    "#     }\n",
    "# )"
   ]
  },
  {
   "cell_type": "code",
   "execution_count": 16,
   "metadata": {},
   "outputs": [
    {
     "data": {
      "text/plain": [
       "{'text': 'Estimation statistics, or simply estimation, is a data analysis framework that uses a combination of effect sizes, confidence intervals, precision planning, and meta-analysis to plan experiments, analyze data and interpret results.[1] It complements hypothesis testing approaches such as null hypothesis significance testing (NHST), by going beyond the question is an effect present or not, and provides information about how large an effect is.[2][3] Estimation statistics is sometimes referred to as the new statistics.[3][4][5]\\n\\nThe primary aim of estimation methods is to report an effect size (a point estimate) along with its confidence interval, the latter of which is related to the precision of the estimate.[6] The confidence interval summarizes a range of likely values of the underlying population effect. Proponents of estimation see reporting a P value as an unhelpful distraction from the important business of reporting an effect size with its confidence intervals,[7] and believe that estimation should replace significance testing for data analysis.[8][9]',\n",
       " 'number': 5,\n",
       " 'area': 'estimation',\n",
       " 'grade': 'middle school',\n",
       " 'response_json': '{\"1\": {\"STATSQA\": \"multiple choice question\", \"options\": {\"a\": \"choice here\", \"b\": \"choice here\", \"c\": \"choice here\", \"d\": \"choice here\"}, \"correct\": \"correct answer\"}, \"2\": {\"STATSQA\": \"multiple choice question\", \"options\": {\"a\": \"choice here\", \"b\": \"choice here\", \"c\": \"choice here\", \"d\": \"choice here\"}, \"correct\": \"correct answer\"}, \"3\": {\"STATSQA\": \"multiple choice question\", \"options\": {\"a\": \"choice here\", \"b\": \"choice here\", \"c\": \"choice here\", \"d\": \"choice here\"}, \"correct\": \"correct answer\"}}',\n",
       " 'quiz': AIMessage(content='Here is the quiz in the requested format:\\n\\n{\\n\"1\": {\\n\"STATSQA\": \"What is the main goal of estimation methods?\",\\n\"options\": {\\n\"a\": \"To test a null hypothesis\",\\n\"b\": \"To report an effect size with its confidence interval\",\\n\"c\": \"To compare means between groups\",\\n\"d\": \"To analyze data using meta-analysis\"\\n},\\n\"correct\": \"b\"\\n},\\n\"2\": {\\n\"STATSQA\": \"What does a confidence interval summarize?\",\\n\"options\": {\\n\"a\": \"A range of likely values of the underlying population effect\",\\n\"b\": \"A point estimate of the effect size\",\\n\"c\": \"The precision of the estimate\",\\n\"d\": \"The null hypothesis\"\\n},\\n\"correct\": \"a\"\\n},\\n\"3\": {\\n\"STATSQA\": \"What is sometimes referred to as the \\'new statistics\\'?\",\\n\"options\": {\\n\"a\": \"Hypothesis testing\",\\n\"b\": \"Estimation statistics\",\\n\"c\": \"Data analysis\",\\n\"d\": \"Meta-analysis\"\\n},\\n\"correct\": \"b\"\\n},\\n\"4\": {\\n\"STATSQA\": \"What is reported along with an effect size in estimation methods?\",\\n\"options\": {\\n\"a\": \"A P value\",\\n\"b\": \"A confidence interval\",\\n\"c\": \"A null hypothesis\",\\n\"d\": \"A mean\"\\n},\\n\"correct\": \"b\"\\n},\\n\"5\": {\\n\"STATSQA\": \"What does estimation statistics provide information about?\",\\n\"options\": {\\n\"a\": \"Whether an effect is present or not\",\\n\"b\": \"How large an effect is\",\\n\"c\": \"The precision of the estimate\",\\n\"d\": \"The null hypothesis\"\\n},\\n\"correct\": \"b\"\\n}', response_metadata={'token_usage': {'completion_tokens': 346, 'prompt_tokens': 440, 'total_tokens': 786, 'completion_time': 0.274069831, 'prompt_time': 0.08786215, 'queue_time': None, 'total_time': 0.361931981}, 'model_name': 'llama3-8b-8192', 'system_fingerprint': 'fp_af05557ca2', 'finish_reason': 'stop', 'logprobs': None}, id='run-728e9ec1-ae76-4628-bf05-a1a8c2a7435c-0'),\n",
       " 'eval': AIMessage(content='What a fascinating task!\\n\\nAfter reviewing the quiz, I\\'d rate its complexity as moderate to challenging, primarily due to the technical vocabulary and statistical concepts involved. The questions require a good understanding of estimation methods, confidence intervals, effect sizes, and null hypotheses.\\n\\nTo make the quiz more suitable for middle school students, I\\'d suggest simplifying the language and focusing on more concrete, relatable examples. Here are some potential revisions:\\n\\n1. Instead of \"To report an effect size with its confidence interval,\" use \"To find the range of possible values for a result.\"\\n2. Replace \"A range of likely values of the underlying population effect\" with \"The possible values that an actual value could be.\"\\n3. For \"What is sometimes referred to as the \\'new statistics\\'?\", provide a simpler explanation, such as \"A way of analyzing data that focuses on describing what happened rather than testing a hypothesis.\"\\n4. Change \"Reported along with an effect size\" to \"Given together with the effect size\" to make it more accessible.\\n5. For \"What does estimation statistics provide information about?\", rephrase it as \"What does estimation statistics help us learn about a result?\"\\n\\nBy making these adjustments, the quiz could become more accessible and engaging for middle school students, while still assessing their understanding of fundamental statistical concepts.', response_metadata={'token_usage': {'completion_tokens': 265, 'prompt_tokens': 665, 'total_tokens': 930, 'completion_time': 0.210991849, 'prompt_time': 0.100741415, 'queue_time': None, 'total_time': 0.311733264}, 'model_name': 'llama3-8b-8192', 'system_fingerprint': 'fp_873a560973', 'finish_reason': 'stop', 'logprobs': None}, id='run-11dec853-b8a9-458d-b520-1b0afafe3612-0')}"
      ]
     },
     "execution_count": 16,
     "metadata": {},
     "output_type": "execute_result"
    }
   ],
   "source": [
    "all_result"
   ]
  },
  {
   "cell_type": "code",
   "execution_count": 17,
   "metadata": {},
   "outputs": [
    {
     "data": {
      "text/plain": [
       "AIMessage(content='What a fascinating task!\\n\\nAfter reviewing the quiz, I\\'d rate its complexity as moderate to challenging, primarily due to the technical vocabulary and statistical concepts involved. The questions require a good understanding of estimation methods, confidence intervals, effect sizes, and null hypotheses.\\n\\nTo make the quiz more suitable for middle school students, I\\'d suggest simplifying the language and focusing on more concrete, relatable examples. Here are some potential revisions:\\n\\n1. Instead of \"To report an effect size with its confidence interval,\" use \"To find the range of possible values for a result.\"\\n2. Replace \"A range of likely values of the underlying population effect\" with \"The possible values that an actual value could be.\"\\n3. For \"What is sometimes referred to as the \\'new statistics\\'?\", provide a simpler explanation, such as \"A way of analyzing data that focuses on describing what happened rather than testing a hypothesis.\"\\n4. Change \"Reported along with an effect size\" to \"Given together with the effect size\" to make it more accessible.\\n5. For \"What does estimation statistics provide information about?\", rephrase it as \"What does estimation statistics help us learn about a result?\"\\n\\nBy making these adjustments, the quiz could become more accessible and engaging for middle school students, while still assessing their understanding of fundamental statistical concepts.', response_metadata={'token_usage': {'completion_tokens': 265, 'prompt_tokens': 665, 'total_tokens': 930, 'completion_time': 0.210991849, 'prompt_time': 0.100741415, 'queue_time': None, 'total_time': 0.311733264}, 'model_name': 'llama3-8b-8192', 'system_fingerprint': 'fp_873a560973', 'finish_reason': 'stop', 'logprobs': None}, id='run-11dec853-b8a9-458d-b520-1b0afafe3612-0')"
      ]
     },
     "execution_count": 17,
     "metadata": {},
     "output_type": "execute_result"
    }
   ],
   "source": [
    "all_result.get(\"eval\")"
   ]
  },
  {
   "cell_type": "markdown",
   "metadata": {},
   "source": [
    "Process the string outcome in \"quiz\" to be JSON string"
   ]
  },
  {
   "cell_type": "code",
   "execution_count": 18,
   "metadata": {},
   "outputs": [
    {
     "name": "stdout",
     "output_type": "stream",
     "text": [
      "{\n",
      "\"1\": {\n",
      "\"STATSQA\": \"What is the main goal of estimation methods?\",\n",
      "\"options\": {\n",
      "\"a\": \"To test a null hypothesis\",\n",
      "\"b\": \"To report an effect size with its confidence interval\",\n",
      "\"c\": \"To compare means between groups\",\n",
      "\"d\": \"To analyze data using meta-analysis\"\n",
      "},\n",
      "\"correct\": \"b\"\n",
      "},\n",
      "\"2\": {\n",
      "\"STATSQA\": \"What does a confidence interval summarize?\",\n",
      "\"options\": {\n",
      "\"a\": \"A range of likely values of the underlying population effect\",\n",
      "\"b\": \"A point estimate of the effect size\",\n",
      "\"c\": \"The precision of the estimate\",\n",
      "\"d\": \"The null hypothesis\"\n",
      "},\n",
      "\"correct\": \"a\"\n",
      "},\n",
      "\"3\": {\n",
      "\"STATSQA\": \"What is sometimes referred to as the 'new statistics'?\",\n",
      "\"options\": {\n",
      "\"a\": \"Hypothesis testing\",\n",
      "\"b\": \"Estimation statistics\",\n",
      "\"c\": \"Data analysis\",\n",
      "\"d\": \"Meta-analysis\"\n",
      "},\n",
      "\"correct\": \"b\"\n",
      "},\n",
      "\"4\": {\n",
      "\"STATSQA\": \"What is reported along with an effect size in estimation methods?\",\n",
      "\"options\": {\n",
      "\"a\": \"A P value\",\n",
      "\"b\": \"A confidence interval\",\n",
      "\"c\": \"A null hypothesis\",\n",
      "\"d\": \"A mean\"\n",
      "},\n",
      "\"correct\": \"b\"\n",
      "},\n",
      "\"5\": {\n",
      "\"STATSQA\": \"What does estimation statistics provide information about?\",\n",
      "\"options\": {\n",
      "\"a\": \"Whether an effect is present or not\",\n",
      "\"b\": \"How large an effect is\",\n",
      "\"c\": \"The precision of the estimate\",\n",
      "\"d\": \"The null hypothesis\"\n",
      "},\n",
      "\"correct\": \"b\"\n",
      "}}\n"
     ]
    }
   ],
   "source": [
    "import json\n",
    "\n",
    "def extract_between_braces(s):\n",
    "    start = s.find('{')\n",
    "    # Ensure the character after the first '{' is not another '{'\n",
    "    while start != -1 and start + 1 < len(s) and s[start + 1] == '{':\n",
    "        start = s.find('{', start + 1)\n",
    "    \n",
    "    end = s.rfind('}')\n",
    "    # Ensure the character before the last '}' is not another '}'\n",
    "    while end != -1 and end - 1 >= 0 and s[end - 1] == '}':\n",
    "        end = s.rfind('}', 0, end - 1)\n",
    "    \n",
    "    if start != -1 and end != -1 and end > start:\n",
    "        return \"{\" + s[start+1:end] + \"}}\"\n",
    "    return \"\"\n",
    "\n",
    "quiz_string = all_result.get(\"quiz\").content\n",
    "quiz_string = extract_between_braces(quiz_string)\n",
    "print(quiz_string)\n"
   ]
  },
  {
   "cell_type": "code",
   "execution_count": 19,
   "metadata": {},
   "outputs": [],
   "source": [
    "quiz = json.loads(quiz_string)"
   ]
  },
  {
   "cell_type": "code",
   "execution_count": 20,
   "metadata": {},
   "outputs": [
    {
     "data": {
      "text/plain": [
       "{'1': {'STATSQA': 'What is the main goal of estimation methods?',\n",
       "  'options': {'a': 'To test a null hypothesis',\n",
       "   'b': 'To report an effect size with its confidence interval',\n",
       "   'c': 'To compare means between groups',\n",
       "   'd': 'To analyze data using meta-analysis'},\n",
       "  'correct': 'b'},\n",
       " '2': {'STATSQA': 'What does a confidence interval summarize?',\n",
       "  'options': {'a': 'A range of likely values of the underlying population effect',\n",
       "   'b': 'A point estimate of the effect size',\n",
       "   'c': 'The precision of the estimate',\n",
       "   'd': 'The null hypothesis'},\n",
       "  'correct': 'a'},\n",
       " '3': {'STATSQA': \"What is sometimes referred to as the 'new statistics'?\",\n",
       "  'options': {'a': 'Hypothesis testing',\n",
       "   'b': 'Estimation statistics',\n",
       "   'c': 'Data analysis',\n",
       "   'd': 'Meta-analysis'},\n",
       "  'correct': 'b'},\n",
       " '4': {'STATSQA': 'What is reported along with an effect size in estimation methods?',\n",
       "  'options': {'a': 'A P value',\n",
       "   'b': 'A confidence interval',\n",
       "   'c': 'A null hypothesis',\n",
       "   'd': 'A mean'},\n",
       "  'correct': 'b'},\n",
       " '5': {'STATSQA': 'What does estimation statistics provide information about?',\n",
       "  'options': {'a': 'Whether an effect is present or not',\n",
       "   'b': 'How large an effect is',\n",
       "   'c': 'The precision of the estimate',\n",
       "   'd': 'The null hypothesis'},\n",
       "  'correct': 'b'}}"
      ]
     },
     "execution_count": 20,
     "metadata": {},
     "output_type": "execute_result"
    }
   ],
   "source": [
    "quiz"
   ]
  },
  {
   "cell_type": "code",
   "execution_count": 21,
   "metadata": {},
   "outputs": [],
   "source": [
    "quiz_table_data = []\n",
    "for key, value in quiz.items():\n",
    "    STATSQA = value[\"STATSQA\"]\n",
    "    options = \" | \".join(\n",
    "        [\n",
    "            f\"{option}: {option_value}\"\n",
    "            for option, option_value in value[\"options\"].items()\n",
    "            ]\n",
    "        )\n",
    "    correct = value[\"correct\"]\n",
    "    quiz_table_data.append({\"STATSQA\": STATSQA, \"Choices\": options, \"Correct\": correct})"
   ]
  },
  {
   "cell_type": "code",
   "execution_count": 22,
   "metadata": {},
   "outputs": [
    {
     "data": {
      "text/html": [
       "<div>\n",
       "<style scoped>\n",
       "    .dataframe tbody tr th:only-of-type {\n",
       "        vertical-align: middle;\n",
       "    }\n",
       "\n",
       "    .dataframe tbody tr th {\n",
       "        vertical-align: top;\n",
       "    }\n",
       "\n",
       "    .dataframe thead th {\n",
       "        text-align: right;\n",
       "    }\n",
       "</style>\n",
       "<table border=\"1\" class=\"dataframe\">\n",
       "  <thead>\n",
       "    <tr style=\"text-align: right;\">\n",
       "      <th></th>\n",
       "      <th>STATSQA</th>\n",
       "      <th>Choices</th>\n",
       "      <th>Correct</th>\n",
       "    </tr>\n",
       "  </thead>\n",
       "  <tbody>\n",
       "    <tr>\n",
       "      <th>0</th>\n",
       "      <td>What is the main goal of estimation methods?</td>\n",
       "      <td>a: To test a null hypothesis | b: To report an...</td>\n",
       "      <td>b</td>\n",
       "    </tr>\n",
       "    <tr>\n",
       "      <th>1</th>\n",
       "      <td>What does a confidence interval summarize?</td>\n",
       "      <td>a: A range of likely values of the underlying ...</td>\n",
       "      <td>a</td>\n",
       "    </tr>\n",
       "    <tr>\n",
       "      <th>2</th>\n",
       "      <td>What is sometimes referred to as the 'new stat...</td>\n",
       "      <td>a: Hypothesis testing | b: Estimation statisti...</td>\n",
       "      <td>b</td>\n",
       "    </tr>\n",
       "    <tr>\n",
       "      <th>3</th>\n",
       "      <td>What is reported along with an effect size in ...</td>\n",
       "      <td>a: A P value | b: A confidence interval | c: A...</td>\n",
       "      <td>b</td>\n",
       "    </tr>\n",
       "    <tr>\n",
       "      <th>4</th>\n",
       "      <td>What does estimation statistics provide inform...</td>\n",
       "      <td>a: Whether an effect is present or not | b: Ho...</td>\n",
       "      <td>b</td>\n",
       "    </tr>\n",
       "  </tbody>\n",
       "</table>\n",
       "</div>"
      ],
      "text/plain": [
       "                                             STATSQA  \\\n",
       "0       What is the main goal of estimation methods?   \n",
       "1         What does a confidence interval summarize?   \n",
       "2  What is sometimes referred to as the 'new stat...   \n",
       "3  What is reported along with an effect size in ...   \n",
       "4  What does estimation statistics provide inform...   \n",
       "\n",
       "                                             Choices Correct  \n",
       "0  a: To test a null hypothesis | b: To report an...       b  \n",
       "1  a: A range of likely values of the underlying ...       a  \n",
       "2  a: Hypothesis testing | b: Estimation statisti...       b  \n",
       "3  a: A P value | b: A confidence interval | c: A...       b  \n",
       "4  a: Whether an effect is present or not | b: Ho...       b  "
      ]
     },
     "execution_count": 22,
     "metadata": {},
     "output_type": "execute_result"
    }
   ],
   "source": [
    "quiz=pd.DataFrame(quiz_table_data)\n",
    "quiz"
   ]
  },
  {
   "cell_type": "code",
   "execution_count": 23,
   "metadata": {},
   "outputs": [],
   "source": [
    "quiz.to_csv(f\"quiz_on_{AERA}.csv\",index=False)"
   ]
  },
  {
   "cell_type": "code",
   "execution_count": 24,
   "metadata": {},
   "outputs": [
    {
     "data": {
      "text/html": [
       "<div>\n",
       "<style scoped>\n",
       "    .dataframe tbody tr th:only-of-type {\n",
       "        vertical-align: middle;\n",
       "    }\n",
       "\n",
       "    .dataframe tbody tr th {\n",
       "        vertical-align: top;\n",
       "    }\n",
       "\n",
       "    .dataframe thead th {\n",
       "        text-align: right;\n",
       "    }\n",
       "</style>\n",
       "<table border=\"1\" class=\"dataframe\">\n",
       "  <thead>\n",
       "    <tr style=\"text-align: right;\">\n",
       "      <th></th>\n",
       "      <th>STATSQA</th>\n",
       "      <th>Choices</th>\n",
       "      <th>Correct</th>\n",
       "    </tr>\n",
       "  </thead>\n",
       "  <tbody>\n",
       "    <tr>\n",
       "      <th>0</th>\n",
       "      <td>What is the main goal of estimation methods?</td>\n",
       "      <td>a: To test a null hypothesis | b: To report an...</td>\n",
       "      <td>b</td>\n",
       "    </tr>\n",
       "    <tr>\n",
       "      <th>1</th>\n",
       "      <td>What does a confidence interval summarize?</td>\n",
       "      <td>a: A range of likely values of the underlying ...</td>\n",
       "      <td>a</td>\n",
       "    </tr>\n",
       "    <tr>\n",
       "      <th>2</th>\n",
       "      <td>What is sometimes referred to as the 'new stat...</td>\n",
       "      <td>a: Hypothesis testing | b: Estimation statisti...</td>\n",
       "      <td>b</td>\n",
       "    </tr>\n",
       "    <tr>\n",
       "      <th>3</th>\n",
       "      <td>What is reported along with an effect size in ...</td>\n",
       "      <td>a: A P value | b: A confidence interval | c: A...</td>\n",
       "      <td>b</td>\n",
       "    </tr>\n",
       "    <tr>\n",
       "      <th>4</th>\n",
       "      <td>What does estimation statistics provide inform...</td>\n",
       "      <td>a: Whether an effect is present or not | b: Ho...</td>\n",
       "      <td>b</td>\n",
       "    </tr>\n",
       "  </tbody>\n",
       "</table>\n",
       "</div>"
      ],
      "text/plain": [
       "                                             STATSQA  \\\n",
       "0       What is the main goal of estimation methods?   \n",
       "1         What does a confidence interval summarize?   \n",
       "2  What is sometimes referred to as the 'new stat...   \n",
       "3  What is reported along with an effect size in ...   \n",
       "4  What does estimation statistics provide inform...   \n",
       "\n",
       "                                             Choices Correct  \n",
       "0  a: To test a null hypothesis | b: To report an...       b  \n",
       "1  a: A range of likely values of the underlying ...       a  \n",
       "2  a: Hypothesis testing | b: Estimation statisti...       b  \n",
       "3  a: A P value | b: A confidence interval | c: A...       b  \n",
       "4  a: Whether an effect is present or not | b: Ho...       b  "
      ]
     },
     "execution_count": 24,
     "metadata": {},
     "output_type": "execute_result"
    }
   ],
   "source": [
    "quiz"
   ]
  },
  {
   "cell_type": "code",
   "execution_count": null,
   "metadata": {},
   "outputs": [],
   "source": []
  }
 ],
 "metadata": {
  "kernelspec": {
   "display_name": "Python 3",
   "language": "python",
   "name": "python3"
  },
  "language_info": {
   "codemirror_mode": {
    "name": "ipython",
    "version": 3
   },
   "file_extension": ".py",
   "mimetype": "text/x-python",
   "name": "python",
   "nbconvert_exporter": "python",
   "pygments_lexer": "ipython3",
   "version": "3.11.9"
  }
 },
 "nbformat": 4,
 "nbformat_minor": 2
}
