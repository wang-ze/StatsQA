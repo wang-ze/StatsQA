{
 "cells": [
  {
   "cell_type": "markdown",
   "metadata": {},
   "source": [
    "## 1. API and Other Setup\n",
    "Here I use the Meta Llama 3 \"llama3-8b-8192\" model available through groq. \n",
    "The task has two steps: the first step uses the LLM to generate a quiz with questions related to a statistics area. The user (a.k.a, human) can specify the number of questions, the area, and the grade or grade level (e.g., \"middle school\"). The user can provide some text. The second step asks the LLM to evaluate the quiz."
   ]
  },
  {
   "cell_type": "code",
   "execution_count": 279,
   "metadata": {},
   "outputs": [],
   "source": [
    "# import getpass\n",
    "import os\n",
    "import json\n",
    "import pandas as pd\n",
    "\n",
    "# os.environ[\"OPENAI_API_KEY\"] = getpass.getpass()\n",
    "\n",
    "from dotenv import load_dotenv\n",
    "\n",
    "load_dotenv()  # take environment variables from .env.\n",
    "KEY=os.getenv(\"GROQ_API_KEY\")\n"
   ]
  },
  {
   "cell_type": "code",
   "execution_count": 280,
   "metadata": {},
   "outputs": [],
   "source": [
    "from operator import itemgetter\n",
    "from langchain_core.prompts import PromptTemplate\n",
    "# from langchain_core.output_parsers import StrOutputParser\n",
    "from langchain_core.runnables import RunnablePassthrough, RunnableLambda\n",
    "# !pip install -qU langchain-groq\n",
    "from langchain_groq import ChatGroq\n",
    "\n",
    "\n",
    "model = ChatGroq(groq_api_key= KEY, model=\"llama3-8b-8192\")\n",
    "# parser = StrOutputParser()\n",
    "# model_parser = model | parser"
   ]
  },
  {
   "cell_type": "code",
   "execution_count": 281,
   "metadata": {},
   "outputs": [],
   "source": [
    "RESPONSE_JSON = {\n",
    "    \"1\": {\n",
    "        \"STATSQA\": \"multiple choice question\",\n",
    "        \"options\": {\n",
    "            \"a\": \"choice here\",\n",
    "            \"b\": \"choice here\",\n",
    "            \"c\": \"choice here\",\n",
    "            \"d\": \"choice here\",\n",
    "        },\n",
    "        \"correct\": \"correct answer\",\n",
    "    },\n",
    "    \"2\": {\n",
    "        \"STATSQA\": \"multiple choice question\",\n",
    "        \"options\": {\n",
    "            \"a\": \"choice here\",\n",
    "            \"b\": \"choice here\",\n",
    "            \"c\": \"choice here\",\n",
    "            \"d\": \"choice here\",\n",
    "        },\n",
    "        \"correct\": \"correct answer\",\n",
    "    },\n",
    "    \"3\": {\n",
    "        \"STATSQA\": \"multiple choice question\",\n",
    "        \"options\": {\n",
    "            \"a\": \"choice here\",\n",
    "            \"b\": \"choice here\",\n",
    "            \"c\": \"choice here\",\n",
    "            \"d\": \"choice here\",\n",
    "        },\n",
    "        \"correct\": \"correct answer\",\n",
    "    },\n",
    "}\n"
   ]
  },
  {
   "cell_type": "code",
   "execution_count": 299,
   "metadata": {},
   "outputs": [],
   "source": [
    "TEMPLATE=\"\"\"\n",
    "Text:{text}\n",
    "You are an expert STATSQA maker. Given the above text, it is your job to \\\n",
    "create a quiz of {number} multiple choice questions related to {area} for students in {grade}. \n",
    "Make sure the questions are not repeated. Your response should be formated like RESPONSE_JSON below with {number} of items. \\\n",
    "Ensure to generate {number} questions.\n",
    "### RESPONSE_JSON\n",
    "{response_json} \\\n",
    "\n",
    "\"\"\""
   ]
  },
  {
   "cell_type": "code",
   "execution_count": 300,
   "metadata": {},
   "outputs": [],
   "source": [
    "TEMPLATE2=\"\"\"\n",
    "You are an expert of English grammar. \\\n",
    "You are given a STATSQA quiz: {quiz} of multiple choice questions related to {area} in statistics.\\\n",
    "You need to evaluate the complexity of the quiz. Use at most 50 words for complexity analysis. \\\n",
    "If the quiz is too easy or too difficult for students in {grade}, \n",
    "update the quiz questions to make it more suitable for the students in {grade}.\n",
    "\n",
    "Check from an expert English Writer of the above quiz:\n",
    "\"\"\""
   ]
  },
  {
   "cell_type": "markdown",
   "metadata": {},
   "source": [
    "## 2. Use LangChain Expression Language (LCEL)"
   ]
  },
  {
   "cell_type": "code",
   "execution_count": 301,
   "metadata": {},
   "outputs": [],
   "source": [
    "quiz_generation_prompt = PromptTemplate(\n",
    "    template=TEMPLATE, \n",
    "    input_variables=[\"text\", \"number\", \"area\", \"grade\", \"response_json\"]\n",
    ")\n",
    "# quiz_generation_prompt = PromptTemplate.from_template(\n",
    "#     template=TEMPLATE\n",
    "# )"
   ]
  },
  {
   "cell_type": "code",
   "execution_count": 302,
   "metadata": {},
   "outputs": [],
   "source": [
    "quiz_evaluation_prompt = PromptTemplate.from_template(TEMPLATE2)"
   ]
  },
  {
   "cell_type": "code",
   "execution_count": 303,
   "metadata": {},
   "outputs": [],
   "source": [
    "quiz_generation_chain= quiz_generation_prompt | model"
   ]
  },
  {
   "cell_type": "code",
   "execution_count": 304,
   "metadata": {},
   "outputs": [],
   "source": [
    "quiz_evaluation_chain = quiz_evaluation_prompt | model"
   ]
  },
  {
   "cell_type": "code",
   "execution_count": 305,
   "metadata": {},
   "outputs": [],
   "source": [
    "dirname = os.getcwd()\n",
    "file_path=os.path.join(dirname, \"experiment\", \"data.txt\")\n",
    "with open(file_path, 'r') as file:\n",
    "    TEXT = file.read()"
   ]
  },
  {
   "cell_type": "code",
   "execution_count": 306,
   "metadata": {},
   "outputs": [],
   "source": [
    "NUMBER=6\n",
    "AERA =\"estimation\"\n",
    "GRADE=\"middle school\""
   ]
  },
  {
   "cell_type": "code",
   "execution_count": 290,
   "metadata": {},
   "outputs": [],
   "source": [
    "# quiz_generation_chain.invoke(\n",
    "#     {\n",
    "#         \"text\": TEXT,\n",
    "#         \"number\": NUMBER,\n",
    "#         \"area\": AERA,\n",
    "#         \"grade\": GRADE,\n",
    "#         \"response_json\": json.dumps(RESPONSE_JSON),\n",
    "#     }\n",
    "# )"
   ]
  },
  {
   "cell_type": "code",
   "execution_count": 291,
   "metadata": {},
   "outputs": [],
   "source": [
    "# quiz_evaluation_chain.invoke(\n",
    "#     {\n",
    "#         \"area\": \"point estimation\",\n",
    "#         \"grade\": \"high school\",\n",
    "#         \"quiz\": quiz_generation_chain\n",
    "#     }\n",
    "# )"
   ]
  },
  {
   "cell_type": "code",
   "execution_count": 308,
   "metadata": {},
   "outputs": [],
   "source": [
    "all_result = complete_chain.invoke(\n",
    "    {\n",
    "        \"text\": TEXT,\n",
    "        \"number\": NUMBER,\n",
    "        \"area\": AERA,\n",
    "        \"grade\": GRADE,\n",
    "        \"response_json\": json.dumps(RESPONSE_JSON)\n",
    "    }\n",
    ")"
   ]
  },
  {
   "cell_type": "code",
   "execution_count": 309,
   "metadata": {},
   "outputs": [
    {
     "data": {
      "text/plain": [
       "{'text': 'Estimation statistics, or simply estimation, is a data analysis framework that uses a combination of effect sizes, confidence intervals, precision planning, and meta-analysis to plan experiments, analyze data and interpret results.[1] It complements hypothesis testing approaches such as null hypothesis significance testing (NHST), by going beyond the question is an effect present or not, and provides information about how large an effect is.[2][3] Estimation statistics is sometimes referred to as the new statistics.[3][4][5]\\n\\nThe primary aim of estimation methods is to report an effect size (a point estimate) along with its confidence interval, the latter of which is related to the precision of the estimate.[6] The confidence interval summarizes a range of likely values of the underlying population effect. Proponents of estimation see reporting a P value as an unhelpful distraction from the important business of reporting an effect size with its confidence intervals,[7] and believe that estimation should replace significance testing for data analysis.[8][9]',\n",
       " 'number': 6,\n",
       " 'area': 'estimation',\n",
       " 'grade': 'middle school',\n",
       " 'response_json': '{\"1\": {\"STATSQA\": \"multiple choice question\", \"options\": {\"a\": \"choice here\", \"b\": \"choice here\", \"c\": \"choice here\", \"d\": \"choice here\"}, \"correct\": \"correct answer\"}, \"2\": {\"STATSQA\": \"multiple choice question\", \"options\": {\"a\": \"choice here\", \"b\": \"choice here\", \"c\": \"choice here\", \"d\": \"choice here\"}, \"correct\": \"correct answer\"}, \"3\": {\"STATSQA\": \"multiple choice question\", \"options\": {\"a\": \"choice here\", \"b\": \"choice here\", \"c\": \"choice here\", \"d\": \"choice here\"}, \"correct\": \"correct answer\"}}',\n",
       " 'quiz': AIMessage(content='Here is the response in the required format:\\n\\n{\"1\": {\"STATSQA\": \"What is estimation statistics used for?\", \"options\": {\"a\": \"To only ask if an effect is present or not\", \"b\": \"To plan experiments, analyze data, and interpret results\", \"c\": \"To only report P values\", \"d\": \"To only calculate confidence intervals\"}, \"correct\": \"b\"},\\n\"2\": {\"STATSQA\": \"What is the primary aim of estimation methods?\", \"options\": {\"a\": \"To only report P values\", \"b\": \"To only calculate confidence intervals\", \"c\": \"To report an effect size along with its confidence interval\", \"d\": \"To only plan experiments\"}, \"correct\": \"c\"},\\n\"3\": {\"STATSQA\": \"What does a confidence interval summarize?\", \"options\": {\"a\": \"A range of likely values of the underlying population effect\", \"b\": \"A measure of the precision of the estimate\", \"c\": \"A point estimate of the effect size\", \"d\": \"A null hypothesis\"}, \"correct\": \"a\"},\\n\"4\": {\"STATSQA\": \"What is sometimes referred to as the new statistics?\", \"options\": {\"a\": \"Hypothesis testing\", \"b\": \"Null hypothesis significance testing\", \"c\": \"Estimation statistics\", \"d\": \"Meta-analysis\"}, \"correct\": \"c\"},\\n\"5\": {\"STATSQA\": \"Why do proponents of estimation see reporting a P value as unhelpful?\", \"options\": {\"a\": \"Because it is difficult to understand\", \"b\": \"Because it is a distraction from reporting an effect size\", \"c\": \"Because it is not necessary\", \"d\": \"Because it is not accurate\"}, \"correct\": \"b\"},\\n\"6\": {\"STATSQA\": \"What do proponents of estimation believe should replace significance testing for data analysis?\", \"options\": {\"a\": \"Hypothesis testing\", \"b\": \"Estimation statistics\", \"c\": \"Null hypothesis significance testing\", \"d\": \"Meta-analysis\"}, \"correct\": \"b\"}}\\n\\nLet me know if you need any further changes!', response_metadata={'token_usage': {'completion_tokens': 445, 'prompt_tokens': 440, 'total_tokens': 885, 'completion_time': 0.364037222, 'prompt_time': 0.066753435, 'queue_time': None, 'total_time': 0.43079065699999997}, 'model_name': 'llama3-8b-8192', 'system_fingerprint': 'fp_6a6771ae9c', 'finish_reason': 'stop', 'logprobs': None}, id='run-ccd5d08d-4985-48ad-9980-ea098b7b6a1d-0'),\n",
       " 'eval': AIMessage(content=\"I'd be happy to evaluate the complexity of the quiz!\\n\\nThe quiz appears to be moderately complex, focusing on estimation statistics and its applications. The language used is clear and concise, making it accessible to students with a basic understanding of statistics.\\n\\nHowever, some questions may be challenging for middle school students, particularly questions 4 and 5, which require a deeper understanding of statistical concepts and terminology.\\n\\nTo make the quiz more suitable for middle school students, I would recommend rephrasing questions 4 and 5 to make them more concrete and relatable. For example:\\n\\n* Question 4: What is a new way to think about statistics that focuses on estimating effects rather than testing hypotheses? (Answer: Estimation statistics)\\n* Question 5: Why do some statisticians prefer to report an estimate of an effect rather than just saying whether it's statistically significant? (Answer: Because it provides more information about the size and direction of the effect)\\n\\nBy rephrasing these questions, you can make the quiz more engaging and accessible for middle school students while still assessing their understanding of estimation statistics.\", response_metadata={'token_usage': {'completion_tokens': 220, 'prompt_tokens': 703, 'total_tokens': 923, 'completion_time': 0.17989959, 'prompt_time': 0.150794885, 'queue_time': None, 'total_time': 0.330694475}, 'model_name': 'llama3-8b-8192', 'system_fingerprint': 'fp_6a6771ae9c', 'finish_reason': 'stop', 'logprobs': None}, id='run-67054512-2213-498f-976f-52805dce9a54-0')}"
      ]
     },
     "execution_count": 309,
     "metadata": {},
     "output_type": "execute_result"
    }
   ],
   "source": [
    "all_result"
   ]
  },
  {
   "cell_type": "code",
   "execution_count": 310,
   "metadata": {},
   "outputs": [
    {
     "data": {
      "text/plain": [
       "AIMessage(content=\"I'd be happy to evaluate the complexity of the quiz!\\n\\nThe quiz appears to be moderately complex, focusing on estimation statistics and its applications. The language used is clear and concise, making it accessible to students with a basic understanding of statistics.\\n\\nHowever, some questions may be challenging for middle school students, particularly questions 4 and 5, which require a deeper understanding of statistical concepts and terminology.\\n\\nTo make the quiz more suitable for middle school students, I would recommend rephrasing questions 4 and 5 to make them more concrete and relatable. For example:\\n\\n* Question 4: What is a new way to think about statistics that focuses on estimating effects rather than testing hypotheses? (Answer: Estimation statistics)\\n* Question 5: Why do some statisticians prefer to report an estimate of an effect rather than just saying whether it's statistically significant? (Answer: Because it provides more information about the size and direction of the effect)\\n\\nBy rephrasing these questions, you can make the quiz more engaging and accessible for middle school students while still assessing their understanding of estimation statistics.\", response_metadata={'token_usage': {'completion_tokens': 220, 'prompt_tokens': 703, 'total_tokens': 923, 'completion_time': 0.17989959, 'prompt_time': 0.150794885, 'queue_time': None, 'total_time': 0.330694475}, 'model_name': 'llama3-8b-8192', 'system_fingerprint': 'fp_6a6771ae9c', 'finish_reason': 'stop', 'logprobs': None}, id='run-67054512-2213-498f-976f-52805dce9a54-0')"
      ]
     },
     "execution_count": 310,
     "metadata": {},
     "output_type": "execute_result"
    }
   ],
   "source": [
    "all_result.get(\"eval\")"
   ]
  },
  {
   "cell_type": "markdown",
   "metadata": {},
   "source": [
    "Process the string outcome in \"quiz\" to be JSON string"
   ]
  },
  {
   "cell_type": "code",
   "execution_count": 311,
   "metadata": {},
   "outputs": [
    {
     "name": "stdout",
     "output_type": "stream",
     "text": [
      "{\"1\": {\"STATSQA\": \"What is estimation statistics used for?\", \"options\": {\"a\": \"To only ask if an effect is present or not\", \"b\": \"To plan experiments, analyze data, and interpret results\", \"c\": \"To only report P values\", \"d\": \"To only calculate confidence intervals\"}, \"correct\": \"b\"},\n",
      "\"2\": {\"STATSQA\": \"What is the primary aim of estimation methods?\", \"options\": {\"a\": \"To only report P values\", \"b\": \"To only calculate confidence intervals\", \"c\": \"To report an effect size along with its confidence interval\", \"d\": \"To only plan experiments\"}, \"correct\": \"c\"},\n",
      "\"3\": {\"STATSQA\": \"What does a confidence interval summarize?\", \"options\": {\"a\": \"A range of likely values of the underlying population effect\", \"b\": \"A measure of the precision of the estimate\", \"c\": \"A point estimate of the effect size\", \"d\": \"A null hypothesis\"}, \"correct\": \"a\"},\n",
      "\"4\": {\"STATSQA\": \"What is sometimes referred to as the new statistics?\", \"options\": {\"a\": \"Hypothesis testing\", \"b\": \"Null hypothesis significance testing\", \"c\": \"Estimation statistics\", \"d\": \"Meta-analysis\"}, \"correct\": \"c\"},\n",
      "\"5\": {\"STATSQA\": \"Why do proponents of estimation see reporting a P value as unhelpful?\", \"options\": {\"a\": \"Because it is difficult to understand\", \"b\": \"Because it is a distraction from reporting an effect size\", \"c\": \"Because it is not necessary\", \"d\": \"Because it is not accurate\"}, \"correct\": \"b\"},\n",
      "\"6\": {\"STATSQA\": \"What do proponents of estimation believe should replace significance testing for data analysis?\", \"options\": {\"a\": \"Hypothesis testing\", \"b\": \"Estimation statistics\", \"c\": \"Null hypothesis significance testing\", \"d\": \"Meta-analysis\"}, \"correct\": \"b\"}}\n"
     ]
    }
   ],
   "source": [
    "import json\n",
    "\n",
    "def extract_between_braces(s):\n",
    "    start = s.find('{')\n",
    "    end = s.rfind('}')\n",
    "    if start != -1 and end != -1 and end > start:\n",
    "        return \"{\" + s[start+1:end] + \"}\"\n",
    "    return \"\"\n",
    "\n",
    "quiz_string = all_result.get(\"quiz\").content\n",
    "quiz_string = extract_between_braces(quiz_string)\n",
    "print(quiz_string)\n"
   ]
  },
  {
   "cell_type": "code",
   "execution_count": 313,
   "metadata": {},
   "outputs": [],
   "source": [
    "quiz = json.loads(quiz_string)"
   ]
  },
  {
   "cell_type": "code",
   "execution_count": 274,
   "metadata": {},
   "outputs": [
    {
     "data": {
      "text/plain": [
       "{'1': {'STATSQA': 'What is the purpose of estimation in statistics?',\n",
       "  'options': {'a': 'To make precise predictions',\n",
       "   'b': 'To make educated guesses',\n",
       "   'c': 'To analyze data',\n",
       "   'd': 'To create graphs'},\n",
       "  'correct': 'b'},\n",
       " '2': {'STATSQA': 'Why is estimation important in real-life situations?',\n",
       "  'options': {'a': \"Because it's always accurate\",\n",
       "   'b': 'Because it helps us make decisions',\n",
       "   'c': \"Because it's always wrong\",\n",
       "   'd': \"Because it's always boring\"},\n",
       "  'correct': 'b'},\n",
       " '3': {'STATSQA': 'What type of data is typically used for estimation?',\n",
       "  'options': {'a': 'Qualitative data',\n",
       "   'b': 'Quantitative data',\n",
       "   'c': 'Categorical data',\n",
       "   'd': 'Attribute data'},\n",
       "  'correct': 'b'},\n",
       " '4': {'STATSQA': 'What is an example of estimation in everyday life?',\n",
       "  'options': {'a': 'Predicting the weather',\n",
       "   'b': 'Estimating the cost of groceries',\n",
       "   'c': 'Counting the number of people in a room',\n",
       "   'd': 'Measuring the distance between two cities'},\n",
       "  'correct': 'b'},\n",
       " '5': {'STATSQA': 'What is the goal of estimation in statistics?',\n",
       "  'options': {'a': 'To get an exact answer',\n",
       "   'b': 'To get an approximate answer',\n",
       "   'c': 'To get a range of answers',\n",
       "   'd': 'To get no answer at all'},\n",
       "  'correct': 'b'}}"
      ]
     },
     "execution_count": 274,
     "metadata": {},
     "output_type": "execute_result"
    }
   ],
   "source": [
    "quiz"
   ]
  },
  {
   "cell_type": "code",
   "execution_count": 314,
   "metadata": {},
   "outputs": [],
   "source": [
    "quiz_table_data = []\n",
    "for key, value in quiz.items():\n",
    "    STATSQA = value[\"STATSQA\"]\n",
    "    options = \" | \".join(\n",
    "        [\n",
    "            f\"{option}: {option_value}\"\n",
    "            for option, option_value in value[\"options\"].items()\n",
    "            ]\n",
    "        )\n",
    "    correct = value[\"correct\"]\n",
    "    quiz_table_data.append({\"STATSQA\": STATSQA, \"Choices\": options, \"Correct\": correct})"
   ]
  },
  {
   "cell_type": "code",
   "execution_count": 315,
   "metadata": {},
   "outputs": [
    {
     "data": {
      "text/html": [
       "<div>\n",
       "<style scoped>\n",
       "    .dataframe tbody tr th:only-of-type {\n",
       "        vertical-align: middle;\n",
       "    }\n",
       "\n",
       "    .dataframe tbody tr th {\n",
       "        vertical-align: top;\n",
       "    }\n",
       "\n",
       "    .dataframe thead th {\n",
       "        text-align: right;\n",
       "    }\n",
       "</style>\n",
       "<table border=\"1\" class=\"dataframe\">\n",
       "  <thead>\n",
       "    <tr style=\"text-align: right;\">\n",
       "      <th></th>\n",
       "      <th>STATSQA</th>\n",
       "      <th>Choices</th>\n",
       "      <th>Correct</th>\n",
       "    </tr>\n",
       "  </thead>\n",
       "  <tbody>\n",
       "    <tr>\n",
       "      <th>0</th>\n",
       "      <td>What is estimation statistics used for?</td>\n",
       "      <td>a: To only ask if an effect is present or not ...</td>\n",
       "      <td>b</td>\n",
       "    </tr>\n",
       "    <tr>\n",
       "      <th>1</th>\n",
       "      <td>What is the primary aim of estimation methods?</td>\n",
       "      <td>a: To only report P values | b: To only calcul...</td>\n",
       "      <td>c</td>\n",
       "    </tr>\n",
       "    <tr>\n",
       "      <th>2</th>\n",
       "      <td>What does a confidence interval summarize?</td>\n",
       "      <td>a: A range of likely values of the underlying ...</td>\n",
       "      <td>a</td>\n",
       "    </tr>\n",
       "    <tr>\n",
       "      <th>3</th>\n",
       "      <td>What is sometimes referred to as the new stati...</td>\n",
       "      <td>a: Hypothesis testing | b: Null hypothesis sig...</td>\n",
       "      <td>c</td>\n",
       "    </tr>\n",
       "    <tr>\n",
       "      <th>4</th>\n",
       "      <td>Why do proponents of estimation see reporting ...</td>\n",
       "      <td>a: Because it is difficult to understand | b: ...</td>\n",
       "      <td>b</td>\n",
       "    </tr>\n",
       "    <tr>\n",
       "      <th>5</th>\n",
       "      <td>What do proponents of estimation believe shoul...</td>\n",
       "      <td>a: Hypothesis testing | b: Estimation statisti...</td>\n",
       "      <td>b</td>\n",
       "    </tr>\n",
       "  </tbody>\n",
       "</table>\n",
       "</div>"
      ],
      "text/plain": [
       "                                             STATSQA  \\\n",
       "0            What is estimation statistics used for?   \n",
       "1     What is the primary aim of estimation methods?   \n",
       "2         What does a confidence interval summarize?   \n",
       "3  What is sometimes referred to as the new stati...   \n",
       "4  Why do proponents of estimation see reporting ...   \n",
       "5  What do proponents of estimation believe shoul...   \n",
       "\n",
       "                                             Choices Correct  \n",
       "0  a: To only ask if an effect is present or not ...       b  \n",
       "1  a: To only report P values | b: To only calcul...       c  \n",
       "2  a: A range of likely values of the underlying ...       a  \n",
       "3  a: Hypothesis testing | b: Null hypothesis sig...       c  \n",
       "4  a: Because it is difficult to understand | b: ...       b  \n",
       "5  a: Hypothesis testing | b: Estimation statisti...       b  "
      ]
     },
     "execution_count": 315,
     "metadata": {},
     "output_type": "execute_result"
    }
   ],
   "source": [
    "quiz=pd.DataFrame(quiz_table_data)\n",
    "quiz"
   ]
  },
  {
   "cell_type": "code",
   "execution_count": 316,
   "metadata": {},
   "outputs": [],
   "source": [
    "quiz.to_csv(f\"quiz_on_{AERA}.csv\",index=False)"
   ]
  },
  {
   "cell_type": "code",
   "execution_count": null,
   "metadata": {},
   "outputs": [],
   "source": []
  },
  {
   "cell_type": "code",
   "execution_count": null,
   "metadata": {},
   "outputs": [],
   "source": []
  }
 ],
 "metadata": {
  "kernelspec": {
   "display_name": "Python 3",
   "language": "python",
   "name": "python3"
  },
  "language_info": {
   "codemirror_mode": {
    "name": "ipython",
    "version": 3
   },
   "file_extension": ".py",
   "mimetype": "text/x-python",
   "name": "python",
   "nbconvert_exporter": "python",
   "pygments_lexer": "ipython3",
   "version": "3.11.9"
  }
 },
 "nbformat": 4,
 "nbformat_minor": 2
}
