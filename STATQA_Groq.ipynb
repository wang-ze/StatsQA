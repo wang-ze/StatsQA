{
 "cells": [
  {
   "cell_type": "code",
   "execution_count": 54,
   "metadata": {},
   "outputs": [],
   "source": [
    "# import getpass\n",
    "import os\n",
    "import json\n",
    "import pandas as pd\n",
    "\n",
    "# os.environ[\"OPENAI_API_KEY\"] = getpass.getpass()\n",
    "\n",
    "from dotenv import load_dotenv\n",
    "\n",
    "load_dotenv()  # take environment variables from .env.\n",
    "KEY=os.getenv(\"GROQ_API_KEY\")\n"
   ]
  },
  {
   "cell_type": "code",
   "execution_count": 3,
   "metadata": {},
   "outputs": [],
   "source": []
  },
  {
   "cell_type": "code",
   "execution_count": 89,
   "metadata": {},
   "outputs": [],
   "source": [
    "from operator import itemgetter\n",
    "\n",
    "from langchain_core.prompts import ChatPromptTemplate\n",
    "from langchain_core.output_parsers import StrOutputParser\n",
    "from langchain_core.runnables import RunnablePassthrough, RunnableLambda\n",
    "# !pip install -qU langchain-groq\n",
    "from langchain_groq import ChatGroq\n",
    "\n",
    "\n",
    "model = ChatGroq(groq_api_key= KEY, model=\"llama3-8b-8192\")\n",
    "parser = StrOutputParser()\n",
    "model_parser = model | parser"
   ]
  },
  {
   "cell_type": "code",
   "execution_count": 56,
   "metadata": {},
   "outputs": [],
   "source": [
    "RESPONSE_JSON = {\n",
    "    \"1\": {\n",
    "        \"STATSQA\": \"multiple choice question\",\n",
    "        \"options\": {\n",
    "            \"a\": \"choice here\",\n",
    "            \"b\": \"choice here\",\n",
    "            \"c\": \"choice here\",\n",
    "            \"d\": \"choice here\",\n",
    "        },\n",
    "        \"correct\": \"correct answer\",\n",
    "    },\n",
    "    \"2\": {\n",
    "        \"STATSQA\": \"multiple choice question\",\n",
    "        \"options\": {\n",
    "            \"a\": \"choice here\",\n",
    "            \"b\": \"choice here\",\n",
    "            \"c\": \"choice here\",\n",
    "            \"d\": \"choice here\",\n",
    "        },\n",
    "        \"correct\": \"correct answer\",\n",
    "    },\n",
    "    \"3\": {\n",
    "        \"STATSQA\": \"multiple choice question\",\n",
    "        \"options\": {\n",
    "            \"a\": \"choice here\",\n",
    "            \"b\": \"choice here\",\n",
    "            \"c\": \"choice here\",\n",
    "            \"d\": \"choice here\",\n",
    "        },\n",
    "        \"correct\": \"correct answer\",\n",
    "    },\n",
    "}\n"
   ]
  },
  {
   "cell_type": "code",
   "execution_count": 79,
   "metadata": {},
   "outputs": [],
   "source": [
    "TEMPLATE=\"\"\"\n",
    "Text:{text}\n",
    "You are an expert STATSQA maker. Given the above text, it is your job to \\\n",
    "create a quiz of {number} multiple choice questions related to {area} for students in {grade}. \n",
    "Make sure the questions are not repeated and format your response like RESPONSE_JSON below and use it as a guide. \\\n",
    "Ensure to make {number} MCQs\n",
    "### RESPONSE_JSON\n",
    "{response_json} \\\n",
    "\n",
    "\"\"\""
   ]
  },
  {
   "cell_type": "code",
   "execution_count": 80,
   "metadata": {},
   "outputs": [],
   "source": [
    "TEMPLATE2=\"\"\"\n",
    "You are an expert of English grammar. \\\n",
    "You are given a STATSQA quiz: {quiz} of multiple choice questions related to {area} in statistics.\\\n",
    "You need to evaluate the complexity of the quiz. Use at most 50 words for complexity analysis. \\\n",
    "If the quiz is too easy or too difficult for students in {grade}, \n",
    "update the quiz questions to make it more suitable for the students in {grade}.\n",
    "\n",
    "Check from an expert English Writer of the above quiz:\n",
    "\"\"\""
   ]
  },
  {
   "cell_type": "code",
   "execution_count": 90,
   "metadata": {},
   "outputs": [],
   "source": [
    "quiz_generation_prompt = ChatPromptTemplate.from_template(\n",
    "    template=TEMPLATE\n",
    ")"
   ]
  },
  {
   "cell_type": "code",
   "execution_count": 91,
   "metadata": {},
   "outputs": [],
   "source": [
    "quiz_evaluation_prompt = ChatPromptTemplate.from_template(TEMPLATE2)"
   ]
  },
  {
   "cell_type": "code",
   "execution_count": null,
   "metadata": {},
   "outputs": [],
   "source": []
  },
  {
   "cell_type": "code",
   "execution_count": 93,
   "metadata": {},
   "outputs": [
    {
     "ename": "ValidationError",
     "evalue": "2 validation errors for RunnablePassthrough\nfunc\n  text is not callable (type=type_error.callable; value=text)\nfunc\n  text is not callable (type=type_error.callable; value=text)",
     "output_type": "error",
     "traceback": [
      "\u001b[1;31m---------------------------------------------------------------------------\u001b[0m",
      "\u001b[1;31mValidationError\u001b[0m                           Traceback (most recent call last)",
      "Cell \u001b[1;32mIn[93], line 2\u001b[0m\n\u001b[0;32m      1\u001b[0m quiz_generator \u001b[38;5;241m=\u001b[39m (\n\u001b[1;32m----> 2\u001b[0m     {\u001b[38;5;124m\"\u001b[39m\u001b[38;5;124mtext\u001b[39m\u001b[38;5;124m\"\u001b[39m: \u001b[43mRunnablePassthrough\u001b[49m\u001b[43m(\u001b[49m\u001b[38;5;124;43m\"\u001b[39;49m\u001b[38;5;124;43mtext\u001b[39;49m\u001b[38;5;124;43m\"\u001b[39;49m\u001b[43m)\u001b[49m,\n\u001b[0;32m      3\u001b[0m     \u001b[38;5;124m\"\u001b[39m\u001b[38;5;124mnumber\u001b[39m\u001b[38;5;124m\"\u001b[39m: itemgetter(\u001b[38;5;124m\"\u001b[39m\u001b[38;5;124mnumber\u001b[39m\u001b[38;5;124m\"\u001b[39m),\n\u001b[0;32m      4\u001b[0m     \u001b[38;5;124m\"\u001b[39m\u001b[38;5;124marea\u001b[39m\u001b[38;5;124m\"\u001b[39m: itemgetter(\u001b[38;5;124m\"\u001b[39m\u001b[38;5;124marea\u001b[39m\u001b[38;5;124m\"\u001b[39m),\n\u001b[0;32m      5\u001b[0m     \u001b[38;5;124m\"\u001b[39m\u001b[38;5;124mgrade\u001b[39m\u001b[38;5;124m\"\u001b[39m: itemgetter(\u001b[38;5;124m\"\u001b[39m\u001b[38;5;124mgrade\u001b[39m\u001b[38;5;124m\"\u001b[39m),\n\u001b[0;32m      6\u001b[0m     \u001b[38;5;124m\"\u001b[39m\u001b[38;5;124mresponse_json\u001b[39m\u001b[38;5;124m\"\u001b[39m: json\u001b[38;5;241m.\u001b[39mdumps(RESPONSE_JSON, indent\u001b[38;5;241m=\u001b[39m\u001b[38;5;241m4\u001b[39m)}\n\u001b[0;32m      7\u001b[0m     \u001b[38;5;241m|\u001b[39m quiz_generation_prompt\n\u001b[0;32m      8\u001b[0m     \u001b[38;5;241m|\u001b[39m {\u001b[38;5;124m\"\u001b[39m\u001b[38;5;124mquiz\u001b[39m\u001b[38;5;124m\"\u001b[39m: model_parser}\n\u001b[0;32m      9\u001b[0m )\n",
      "File \u001b[1;32mc:\\Users\\Ze\\Desktop\\backup\\Ze\\GenAI\\StatsQA\\env\\Lib\\site-packages\\langchain_core\\runnables\\passthrough.py:168\u001b[0m, in \u001b[0;36mRunnablePassthrough.__init__\u001b[1;34m(self, func, afunc, input_type, **kwargs)\u001b[0m\n\u001b[0;32m    165\u001b[0m     afunc \u001b[38;5;241m=\u001b[39m func\n\u001b[0;32m    166\u001b[0m     func \u001b[38;5;241m=\u001b[39m \u001b[38;5;28;01mNone\u001b[39;00m\n\u001b[1;32m--> 168\u001b[0m \u001b[38;5;28;43msuper\u001b[39;49m\u001b[43m(\u001b[49m\u001b[43m)\u001b[49m\u001b[38;5;241;43m.\u001b[39;49m\u001b[38;5;21;43m__init__\u001b[39;49m\u001b[43m(\u001b[49m\u001b[43mfunc\u001b[49m\u001b[38;5;241;43m=\u001b[39;49m\u001b[43mfunc\u001b[49m\u001b[43m,\u001b[49m\u001b[43m \u001b[49m\u001b[43mafunc\u001b[49m\u001b[38;5;241;43m=\u001b[39;49m\u001b[43mafunc\u001b[49m\u001b[43m,\u001b[49m\u001b[43m \u001b[49m\u001b[43minput_type\u001b[49m\u001b[38;5;241;43m=\u001b[39;49m\u001b[43minput_type\u001b[49m\u001b[43m,\u001b[49m\u001b[43m \u001b[49m\u001b[38;5;241;43m*\u001b[39;49m\u001b[38;5;241;43m*\u001b[39;49m\u001b[43mkwargs\u001b[49m\u001b[43m)\u001b[49m\n",
      "File \u001b[1;32mc:\\Users\\Ze\\Desktop\\backup\\Ze\\GenAI\\StatsQA\\env\\Lib\\site-packages\\pydantic\\v1\\main.py:341\u001b[0m, in \u001b[0;36mBaseModel.__init__\u001b[1;34m(__pydantic_self__, **data)\u001b[0m\n\u001b[0;32m    339\u001b[0m values, fields_set, validation_error \u001b[38;5;241m=\u001b[39m validate_model(__pydantic_self__\u001b[38;5;241m.\u001b[39m\u001b[38;5;18m__class__\u001b[39m, data)\n\u001b[0;32m    340\u001b[0m \u001b[38;5;28;01mif\u001b[39;00m validation_error:\n\u001b[1;32m--> 341\u001b[0m     \u001b[38;5;28;01mraise\u001b[39;00m validation_error\n\u001b[0;32m    342\u001b[0m \u001b[38;5;28;01mtry\u001b[39;00m:\n\u001b[0;32m    343\u001b[0m     object_setattr(__pydantic_self__, \u001b[38;5;124m'\u001b[39m\u001b[38;5;124m__dict__\u001b[39m\u001b[38;5;124m'\u001b[39m, values)\n",
      "\u001b[1;31mValidationError\u001b[0m: 2 validation errors for RunnablePassthrough\nfunc\n  text is not callable (type=type_error.callable; value=text)\nfunc\n  text is not callable (type=type_error.callable; value=text)"
     ]
    },
    {
     "ename": "",
     "evalue": "",
     "output_type": "error",
     "traceback": [
      "\u001b[1;31mThe Kernel crashed while executing code in the current cell or a previous cell. \n",
      "\u001b[1;31mPlease review the code in the cell(s) to identify a possible cause of the failure. \n",
      "\u001b[1;31mClick <a href='https://aka.ms/vscodeJupyterKernelCrash'>here</a> for more info. \n",
      "\u001b[1;31mView Jupyter <a href='command:jupyter.viewOutput'>log</a> for further details."
     ]
    }
   ],
   "source": [
    "quiz_generator = (\n",
    "    {\"text\": RunnablePassthrough(\"text\"),\n",
    "    \"number\": itemgetter(\"number\"),\n",
    "    \"area\": itemgetter(\"area\"),\n",
    "    \"grade\": itemgetter(\"grade\"),\n",
    "    \"response_json\": json.dumps(RESPONSE_JSON, indent=4)}\n",
    "    | quiz_generation_prompt\n",
    "    | {\"quiz\": model_parser}\n",
    ")"
   ]
  },
  {
   "cell_type": "code",
   "execution_count": null,
   "metadata": {},
   "outputs": [],
   "source": [
    "quiz_evaluator = quiz_generator | quiz_evaluation_prompt | model_parser"
   ]
  },
  {
   "cell_type": "code",
   "execution_count": null,
   "metadata": {},
   "outputs": [],
   "source": [
    "quiz_evaluator.invoke(\n",
    "    text=\"You are an expert STATSQA maker. Given the above text, it is your job to create a quiz of 3 multiple choice questions related to statistics for students in grade 10. Make sure the questions are not repeated and format your response like RESPONSE_JSON below and use it as a guide. Ensure to make 3 MCQs\",\n",
    "    number=\"3\",\n",
    "    area=\"probability\",\n",
    "    grade=\"high school\",\n",
    "    response_json=json.dumps(RESPONSE_JSON, indent=4)\n",
    ")"
   ]
  },
  {
   "cell_type": "code",
   "execution_count": 70,
   "metadata": {},
   "outputs": [],
   "source": [
    "prompt1 = PromptTemplate.from_template(\n",
    "    \"generate a {attribute} color. Return the name of the color and nothing else:\"\n",
    ")\n",
    "prompt2 = PromptTemplate.from_template(\n",
    "    \"what is a fruit of color: {color}. Return the name of the fruit and nothing else:\"\n",
    ")\n",
    "prompt3 = PromptTemplate.from_template(\n",
    "    \"what is a country with a flag that has the color: {color}. Return the name of the country and nothing else:\"\n",
    ")\n",
    "prompt4 = PromptTemplate.from_template(\n",
    "    \"What is the color of {fruit} and the flag of {country}?\"\n",
    ")\n",
    "\n",
    "model_parser = model | StrOutputParser()\n",
    "\n",
    "color_generator = (\n",
    "    {\"attribute\": RunnablePassthrough()} | prompt1 | {\"color\": model_parser}\n",
    ")\n",
    "color_to_fruit = prompt2 | model_parser\n",
    "color_to_country = prompt3 | model_parser\n",
    "question_generator = (\n",
    "    color_generator | {\"fruit\": color_to_fruit, \"country\": color_to_country} | prompt4\n",
    ")"
   ]
  },
  {
   "cell_type": "code",
   "execution_count": 73,
   "metadata": {},
   "outputs": [
    {
     "data": {
      "text/plain": [
       "StringPromptValue(text='What is the color of Tangerine and the flag of Nauru?')"
      ]
     },
     "execution_count": 73,
     "metadata": {},
     "output_type": "execute_result"
    }
   ],
   "source": [
    "question_generator.invoke(\"warm\")"
   ]
  },
  {
   "cell_type": "code",
   "execution_count": 74,
   "metadata": {},
   "outputs": [
    {
     "data": {
      "text/plain": [
       "AIMessage(content='The color of a pomegranate is typically a deep red or reddish-purple color.\\n\\nThe flag of Italy is a tricolor, featuring three vertical stripes of green, white, and red, in that order.', response_metadata={'token_usage': {'completion_tokens': 45, 'prompt_tokens': 25, 'total_tokens': 70, 'completion_time': 0.035103997, 'prompt_time': 0.004526317, 'queue_time': None, 'total_time': 0.039630314}, 'model_name': 'llama3-8b-8192', 'system_fingerprint': 'fp_873a560973', 'finish_reason': 'stop', 'logprobs': None}, id='run-a9782277-6e03-47ba-84c4-a023d55842b2-0')"
      ]
     },
     "execution_count": 74,
     "metadata": {},
     "output_type": "execute_result"
    }
   ],
   "source": [
    "prompt = question_generator.invoke(\"warm\")\n",
    "model.invoke(prompt)"
   ]
  },
  {
   "cell_type": "code",
   "execution_count": 36,
   "metadata": {},
   "outputs": [
    {
     "name": "stdout",
     "output_type": "stream",
     "text": [
      "text='\\nText:The concept of probability in statistics is a way to quantify uncertainty.\\nYou are an expert STATSQA maker. Given the above text, it is your job to create a quiz  of 3 multiple choice questions related to probability for students in high school. \\nMake sure the questions are not repeated and format your response like RESPONSE_JSON below and use it as a guide. Ensure to make 3 MCQs\\n### RESPONSE_JSON\\n{\\n    \"1\": {\\n        \"STATSQA\": \"multiple choice question\",\\n        \"options\": {\\n            \"a\": \"choice here\",\\n            \"b\": \"choice here\",\\n            \"c\": \"choice here\",\\n            \"d\": \"choice here\"\\n        },\\n        \"correct\": \"correct answer\"\\n    },\\n    \"2\": {\\n        \"STATSQA\": \"multiple choice question\",\\n        \"options\": {\\n            \"a\": \"choice here\",\\n            \"b\": \"choice here\",\\n            \"c\": \"choice here\",\\n            \"d\": \"choice here\"\\n        },\\n        \"correct\": \"correct answer\"\\n    },\\n    \"3\": {\\n        \"STATSQA\": \"multiple choice question\",\\n        \"options\": {\\n            \"a\": \"choice here\",\\n            \"b\": \"choice here\",\\n            \"c\": \"choice here\",\\n            \"d\": \"choice here\"\\n        },\\n        \"correct\": \"correct answer\"\\n    }\\n} \\n\\n'\n"
     ]
    }
   ],
   "source": [
    "# Example usage of the created prompt_template object\n",
    "# Assuming there's a method to fill in the template with actual values\n",
    "first_prompt = quiz_generation_prompt.invoke(\n",
    "    {\"text\": \"The concept of probability in statistics is a way to quantify uncertainty.\",\n",
    "     \"number\": 3,\n",
    "     \"area\": \"probability\",\n",
    "     \"grade\": \"high school\",\n",
    "     \"response_json\": json.dumps(RESPONSE_JSON, indent=4)}\n",
    ")\n",
    "\n",
    "print(first_prompt)"
   ]
  },
  {
   "cell_type": "code",
   "execution_count": 37,
   "metadata": {},
   "outputs": [],
   "source": [
    "quiz_generation_chain = quiz_generation_prompt | model | parser"
   ]
  },
  {
   "cell_type": "code",
   "execution_count": 40,
   "metadata": {},
   "outputs": [
    {
     "name": "stdout",
     "output_type": "stream",
     "text": [
      "Here are 3 multiple choice questions related to estimation:\n",
      "\n",
      "{\n",
      "    \"1\": {\n",
      "        \"STATSQA\": \"What is point estimation in statistics?\",\n",
      "        \"options\": {\n",
      "            \"a\": \"The process of finding the exact value of a population parameter\",\n",
      "            \"b\": \"The process of finding an approximate value of a population parameter\",\n",
      "            \"c\": \"The process of finding the mean of a sample\",\n",
      "            \"d\": \"The process of finding the median of a sample\"\n",
      "        },\n",
      "        \"correct\": \"b\"\n",
      "    },\n",
      "    \"2\": {\n",
      "        \"STATSQA\": \"What is the goal of point estimation?\",\n",
      "        \"options\": {\n",
      "            \"a\": \"To find the exact value of a population parameter\",\n",
      "            \"b\": \"To find an approximate value of a population parameter\",\n",
      "            \"c\": \"To find the standard deviation of a sample\",\n",
      "            \"d\": \"To find the correlation coefficient of a sample\"\n",
      "        },\n",
      "        \"correct\": \"b\"\n",
      "    },\n",
      "    \"3\": {\n",
      "        \"STATSQA\": \"What type of sample is typically used for point estimation?\",\n",
      "        \"options\": {\n",
      "            \"a\": \"A control sample\",\n",
      "            \"b\": \"A random sample\",\n",
      "            \"c\": \"A stratified sample\",\n",
      "            \"d\": \"A biased sample\"\n",
      "        },\n",
      "        \"correct\": \"b\"\n",
      "    }\n",
      "}\n"
     ]
    }
   ],
   "source": [
    "first_chain_result = quiz_generation_chain.invoke(\n",
    "{\"text\": \"point estimation, in statistics, the process of finding an approximate value of some parameter—such as the mean (average)—of a population from random samples of the population.\",\n",
    "     \"number\": 3,\n",
    "     \"area\": \"estimation\",\n",
    "     \"grade\": \"high school\",\n",
    "     \"response_json\": json.dumps(RESPONSE_JSON, indent=4)}\n",
    "\n",
    ")\n",
    "print(first_chain_result)"
   ]
  },
  {
   "cell_type": "code",
   "execution_count": null,
   "metadata": {},
   "outputs": [],
   "source": []
  },
  {
   "cell_type": "markdown",
   "metadata": {},
   "source": [
    "## 2. Second Chain - Quiz Evaluation and Update"
   ]
  },
  {
   "cell_type": "code",
   "execution_count": 43,
   "metadata": {},
   "outputs": [
    {
     "name": "stdout",
     "output_type": "stream",
     "text": [
      "text='\\nYou are an expert of English grammar. You are given a STATSQA quiz of multiple choice questions related to probability in statistics.You need to evaluate the complexity of the quiz. Use at most 50 words for complexity analysis. If the quiz is too easy or too difficult for students in high school, \\nupdate the quiz questions to make it more suitable for the students in high school.\\nQuiz_MCQs:\\nHere are 3 multiple choice questions related to estimation:\\n\\n{\\n    \"1\": {\\n        \"STATSQA\": \"What is point estimation in statistics?\",\\n        \"options\": {\\n            \"a\": \"The process of finding the exact value of a population parameter\",\\n            \"b\": \"The process of finding an approximate value of a population parameter\",\\n            \"c\": \"The process of finding the mean of a sample\",\\n            \"d\": \"The process of finding the median of a sample\"\\n        },\\n        \"correct\": \"b\"\\n    },\\n    \"2\": {\\n        \"STATSQA\": \"What is the goal of point estimation?\",\\n        \"options\": {\\n            \"a\": \"To find the exact value of a population parameter\",\\n            \"b\": \"To find an approximate value of a population parameter\",\\n            \"c\": \"To find the standard deviation of a sample\",\\n            \"d\": \"To find the correlation coefficient of a sample\"\\n        },\\n        \"correct\": \"b\"\\n    },\\n    \"3\": {\\n        \"STATSQA\": \"What type of sample is typically used for point estimation?\",\\n        \"options\": {\\n            \"a\": \"A control sample\",\\n            \"b\": \"A random sample\",\\n            \"c\": \"A stratified sample\",\\n            \"d\": \"A biased sample\"\\n        },\\n        \"correct\": \"b\"\\n    }\\n}\\n\\nCheck from an expert English Writer of the above quiz:\\n'\n"
     ]
    }
   ],
   "source": [
    "second_prompt = quiz_evaluation_prompt.invoke(\n",
    "    {\"area\": \"probability\",\n",
    "     \"grade\": \"high school\",\n",
    "     \"quiz\": first_chain_result}\n",
    ")\n",
    "\n",
    "print(second_prompt)"
   ]
  },
  {
   "cell_type": "code",
   "execution_count": 46,
   "metadata": {},
   "outputs": [],
   "source": [
    "quiz_evaluation_chain = quiz_evaluation_prompt | model | parser"
   ]
  },
  {
   "cell_type": "code",
   "execution_count": 47,
   "metadata": {},
   "outputs": [
    {
     "name": "stdout",
     "output_type": "stream",
     "text": [
      "Based on the quiz questions, I would rate the complexity level as moderately challenging for high school students. The questions appear to require a good understanding of probability concepts, such as conditional probability, independence, and Bayes' theorem. However, the language used is straightforward, and the options provided are clear and concise.\n",
      "\n",
      "To make the quiz more suitable for high school students, I would consider adding more contextual clues to help them understand the problems better. For example, adding simple diagrams or charts to illustrate the probability concepts could be helpful.\n",
      "\n",
      "Here is a revised complexity analysis:\n",
      "\n",
      "* Complexity level: 6/10 (moderately challenging)\n",
      "* Recommended adjustments: Add more contextual clues, such as diagrams or charts, to help students understand the probability concepts.\n",
      "\n",
      "Please let me know if you would like me to update the quiz questions based on this analysis.\n"
     ]
    }
   ],
   "source": [
    "second_chain_result = quiz_evaluation_chain.invoke(\n",
    "    {\"area\": \"probability\",\n",
    "     \"grade\": \"high school\",\n",
    "     \"quiz\": quiz_generation_chain}\n",
    ")\n",
    "\n",
    "print(second_chain_result)"
   ]
  },
  {
   "cell_type": "code",
   "execution_count": null,
   "metadata": {},
   "outputs": [],
   "source": []
  },
  {
   "cell_type": "code",
   "execution_count": 21,
   "metadata": {},
   "outputs": [
    {
     "name": "stdout",
     "output_type": "stream",
     "text": [
      "Here are the 3 multiple choice questions related to estimation:\n",
      "\n",
      "{\n",
      "    \"1\": {\n",
      "        \"STATSQA\": \"What is the process of finding an approximate value of some parameter of a population?\",\n",
      "        \"options\": {\n",
      "            \"a\": \"Sampling\",\n",
      "            \"b\": \"Point Estimation\",\n",
      "            \"c\": \"Hypothesis Testing\",\n",
      "            \"d\": \"Regression Analysis\"\n",
      "        },\n",
      "        \"correct\": \"b\"\n",
      "    },\n",
      "    \"2\": {\n",
      "        \"STATSQA\": \"What is the typical parameter that is estimated in point estimation?\",\n",
      "        \"options\": {\n",
      "            \"a\": \"Standard Deviation\",\n",
      "            \"b\": \"Mean (Average)\",\n",
      "            \"c\": \"Median\",\n",
      "            \"d\": \"Mode\"\n",
      "        },\n",
      "        \"correct\": \"b\"\n",
      "    },\n",
      "    \"3\": {\n",
      "        \"STATSQA\": \"What is the basis of point estimation?\",\n",
      "        \"options\": {\n",
      "            \"a\": \"Random Sampling\",\n",
      "            \"b\": \"Systematic Sampling\",\n",
      "            \"c\": \"Stratified Sampling\",\n",
      "            \"d\": \"Convenience Sampling\"\n",
      "        },\n",
      "        \"correct\": \"a\"\n",
      "    }\n",
      "}\n"
     ]
    }
   ],
   "source": [
    "print(quiz_generation_chain)"
   ]
  },
  {
   "cell_type": "code",
   "execution_count": null,
   "metadata": {},
   "outputs": [],
   "source": [
    "\n",
    "#How to setup Token Usage Tracking in LangChain\n",
    "with get_openai_callback() as cb:\n",
    "    response=quiz_generation_chain(\n",
    "        {\n",
    "            \"text\": TEXT,\n",
    "            \"number\": NUMBER,\n",
    "            \"area\":SUBJECT,\n",
    "            \"tone\": TONE,\n",
    "            \"response_json\": json.dumps(RESPONSE_JSON)\n",
    "        }\n",
    "        )"
   ]
  },
  {
   "cell_type": "code",
   "execution_count": null,
   "metadata": {},
   "outputs": [],
   "source": []
  }
 ],
 "metadata": {
  "kernelspec": {
   "display_name": "Python 3",
   "language": "python",
   "name": "python3"
  },
  "language_info": {
   "codemirror_mode": {
    "name": "ipython",
    "version": 3
   },
   "file_extension": ".py",
   "mimetype": "text/x-python",
   "name": "python",
   "nbconvert_exporter": "python",
   "pygments_lexer": "ipython3",
   "version": "3.11.9"
  }
 },
 "nbformat": 4,
 "nbformat_minor": 2
}
